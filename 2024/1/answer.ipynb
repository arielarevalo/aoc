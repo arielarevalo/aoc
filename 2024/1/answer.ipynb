{
 "cells": [
  {
   "cell_type": "markdown",
   "id": "20a064f4",
   "metadata": {},
   "source": [
    "# Advent of Code 2024, Day 1"
   ]
  },
  {
   "cell_type": "code",
   "id": "80c2610a",
   "metadata": {
    "ExecuteTime": {
     "end_time": "2024-12-09T00:32:30.729171Z",
     "start_time": "2024-12-09T00:32:30.726726Z"
    }
   },
   "source": [
    "with open('input.txt', 'r') as f:\n",
    "    puzzle_input = f.read().strip()"
   ],
   "outputs": [],
   "execution_count": 1
  },
  {
   "cell_type": "markdown",
   "id": "58e244e7",
   "metadata": {},
   "source": [
    "## [First Puzzle:](https://adventofcode.com/2024/day/1)"
   ]
  },
  {
   "cell_type": "code",
   "id": "5dbad4c7",
   "metadata": {
    "ExecuteTime": {
     "end_time": "2024-12-09T00:32:31.415777Z",
     "start_time": "2024-12-09T00:32:30.731033Z"
    }
   },
   "source": [
    "import pandas as pd\n",
    "import numpy as np\n",
    "from io import StringIO"
   ],
   "outputs": [],
   "execution_count": 2
  },
  {
   "metadata": {
    "ExecuteTime": {
     "end_time": "2024-12-09T00:32:31.598819Z",
     "start_time": "2024-12-09T00:32:31.588327Z"
    }
   },
   "cell_type": "code",
   "source": [
    "puzzle_input_df = pd.read_csv(StringIO(puzzle_input), delim_whitespace=True, header=None)\n",
    "puzzle_input_df"
   ],
   "id": "8536b6138d8f3484",
   "outputs": [
    {
     "name": "stderr",
     "output_type": "stream",
     "text": [
      "/var/folders/88/ld9xc8sx2l1dff6sjjk2pyyc0000gp/T/ipykernel_99370/3792967778.py:1: FutureWarning: The 'delim_whitespace' keyword in pd.read_csv is deprecated and will be removed in a future version. Use ``sep='\\s+'`` instead\n",
      "  puzzle_input_df = pd.read_csv(StringIO(puzzle_input), delim_whitespace=True, header=None)\n"
     ]
    },
    {
     "data": {
      "text/plain": [
       "         0      1\n",
       "0    66845  37619\n",
       "1    94793  99076\n",
       "2    76946  36179\n",
       "3    27374  48777\n",
       "4    47847  92154\n",
       "..     ...    ...\n",
       "995  86124  77004\n",
       "996  30895  46438\n",
       "997  69966  25582\n",
       "998  31783  85509\n",
       "999  97288  51968\n",
       "\n",
       "[1000 rows x 2 columns]"
      ],
      "text/html": [
       "<div>\n",
       "<style scoped>\n",
       "    .dataframe tbody tr th:only-of-type {\n",
       "        vertical-align: middle;\n",
       "    }\n",
       "\n",
       "    .dataframe tbody tr th {\n",
       "        vertical-align: top;\n",
       "    }\n",
       "\n",
       "    .dataframe thead th {\n",
       "        text-align: right;\n",
       "    }\n",
       "</style>\n",
       "<table border=\"1\" class=\"dataframe\">\n",
       "  <thead>\n",
       "    <tr style=\"text-align: right;\">\n",
       "      <th></th>\n",
       "      <th>0</th>\n",
       "      <th>1</th>\n",
       "    </tr>\n",
       "  </thead>\n",
       "  <tbody>\n",
       "    <tr>\n",
       "      <th>0</th>\n",
       "      <td>66845</td>\n",
       "      <td>37619</td>\n",
       "    </tr>\n",
       "    <tr>\n",
       "      <th>1</th>\n",
       "      <td>94793</td>\n",
       "      <td>99076</td>\n",
       "    </tr>\n",
       "    <tr>\n",
       "      <th>2</th>\n",
       "      <td>76946</td>\n",
       "      <td>36179</td>\n",
       "    </tr>\n",
       "    <tr>\n",
       "      <th>3</th>\n",
       "      <td>27374</td>\n",
       "      <td>48777</td>\n",
       "    </tr>\n",
       "    <tr>\n",
       "      <th>4</th>\n",
       "      <td>47847</td>\n",
       "      <td>92154</td>\n",
       "    </tr>\n",
       "    <tr>\n",
       "      <th>...</th>\n",
       "      <td>...</td>\n",
       "      <td>...</td>\n",
       "    </tr>\n",
       "    <tr>\n",
       "      <th>995</th>\n",
       "      <td>86124</td>\n",
       "      <td>77004</td>\n",
       "    </tr>\n",
       "    <tr>\n",
       "      <th>996</th>\n",
       "      <td>30895</td>\n",
       "      <td>46438</td>\n",
       "    </tr>\n",
       "    <tr>\n",
       "      <th>997</th>\n",
       "      <td>69966</td>\n",
       "      <td>25582</td>\n",
       "    </tr>\n",
       "    <tr>\n",
       "      <th>998</th>\n",
       "      <td>31783</td>\n",
       "      <td>85509</td>\n",
       "    </tr>\n",
       "    <tr>\n",
       "      <th>999</th>\n",
       "      <td>97288</td>\n",
       "      <td>51968</td>\n",
       "    </tr>\n",
       "  </tbody>\n",
       "</table>\n",
       "<p>1000 rows × 2 columns</p>\n",
       "</div>"
      ]
     },
     "execution_count": 3,
     "metadata": {},
     "output_type": "execute_result"
    }
   ],
   "execution_count": 3
  },
  {
   "metadata": {
    "ExecuteTime": {
     "end_time": "2024-12-09T00:32:31.676013Z",
     "start_time": "2024-12-09T00:32:31.671826Z"
    }
   },
   "cell_type": "code",
   "source": [
    "sorted_0 = puzzle_input_df[0].sort_values(ignore_index=True)\n",
    "sorted_1 = puzzle_input_df[1].sort_values(ignore_index=True)\n",
    "\n",
    "reshuffled_df = pd.DataFrame({0: sorted_0, 1: sorted_1})\n",
    "reshuffled_df"
   ],
   "id": "fba350e5e9fe69b2",
   "outputs": [
    {
     "data": {
      "text/plain": [
       "         0      1\n",
       "0    10057  10281\n",
       "1    10080  10455\n",
       "2    10186  10590\n",
       "3    10331  10626\n",
       "4    10472  10638\n",
       "..     ...    ...\n",
       "995  99522  99107\n",
       "996  99667  99196\n",
       "997  99797  99196\n",
       "998  99897  99294\n",
       "999  99960  99347\n",
       "\n",
       "[1000 rows x 2 columns]"
      ],
      "text/html": [
       "<div>\n",
       "<style scoped>\n",
       "    .dataframe tbody tr th:only-of-type {\n",
       "        vertical-align: middle;\n",
       "    }\n",
       "\n",
       "    .dataframe tbody tr th {\n",
       "        vertical-align: top;\n",
       "    }\n",
       "\n",
       "    .dataframe thead th {\n",
       "        text-align: right;\n",
       "    }\n",
       "</style>\n",
       "<table border=\"1\" class=\"dataframe\">\n",
       "  <thead>\n",
       "    <tr style=\"text-align: right;\">\n",
       "      <th></th>\n",
       "      <th>0</th>\n",
       "      <th>1</th>\n",
       "    </tr>\n",
       "  </thead>\n",
       "  <tbody>\n",
       "    <tr>\n",
       "      <th>0</th>\n",
       "      <td>10057</td>\n",
       "      <td>10281</td>\n",
       "    </tr>\n",
       "    <tr>\n",
       "      <th>1</th>\n",
       "      <td>10080</td>\n",
       "      <td>10455</td>\n",
       "    </tr>\n",
       "    <tr>\n",
       "      <th>2</th>\n",
       "      <td>10186</td>\n",
       "      <td>10590</td>\n",
       "    </tr>\n",
       "    <tr>\n",
       "      <th>3</th>\n",
       "      <td>10331</td>\n",
       "      <td>10626</td>\n",
       "    </tr>\n",
       "    <tr>\n",
       "      <th>4</th>\n",
       "      <td>10472</td>\n",
       "      <td>10638</td>\n",
       "    </tr>\n",
       "    <tr>\n",
       "      <th>...</th>\n",
       "      <td>...</td>\n",
       "      <td>...</td>\n",
       "    </tr>\n",
       "    <tr>\n",
       "      <th>995</th>\n",
       "      <td>99522</td>\n",
       "      <td>99107</td>\n",
       "    </tr>\n",
       "    <tr>\n",
       "      <th>996</th>\n",
       "      <td>99667</td>\n",
       "      <td>99196</td>\n",
       "    </tr>\n",
       "    <tr>\n",
       "      <th>997</th>\n",
       "      <td>99797</td>\n",
       "      <td>99196</td>\n",
       "    </tr>\n",
       "    <tr>\n",
       "      <th>998</th>\n",
       "      <td>99897</td>\n",
       "      <td>99294</td>\n",
       "    </tr>\n",
       "    <tr>\n",
       "      <th>999</th>\n",
       "      <td>99960</td>\n",
       "      <td>99347</td>\n",
       "    </tr>\n",
       "  </tbody>\n",
       "</table>\n",
       "<p>1000 rows × 2 columns</p>\n",
       "</div>"
      ]
     },
     "execution_count": 4,
     "metadata": {},
     "output_type": "execute_result"
    }
   ],
   "execution_count": 4
  },
  {
   "metadata": {
    "ExecuteTime": {
     "end_time": "2024-12-09T00:32:31.696224Z",
     "start_time": "2024-12-09T00:32:31.692161Z"
    }
   },
   "cell_type": "code",
   "source": [
    "reshuffled_df['diff'] = (reshuffled_df[1] - reshuffled_df[0]).abs()\n",
    "reshuffled_df"
   ],
   "id": "4920eeb41359c552",
   "outputs": [
    {
     "data": {
      "text/plain": [
       "         0      1  diff\n",
       "0    10057  10281   224\n",
       "1    10080  10455   375\n",
       "2    10186  10590   404\n",
       "3    10331  10626   295\n",
       "4    10472  10638   166\n",
       "..     ...    ...   ...\n",
       "995  99522  99107   415\n",
       "996  99667  99196   471\n",
       "997  99797  99196   601\n",
       "998  99897  99294   603\n",
       "999  99960  99347   613\n",
       "\n",
       "[1000 rows x 3 columns]"
      ],
      "text/html": [
       "<div>\n",
       "<style scoped>\n",
       "    .dataframe tbody tr th:only-of-type {\n",
       "        vertical-align: middle;\n",
       "    }\n",
       "\n",
       "    .dataframe tbody tr th {\n",
       "        vertical-align: top;\n",
       "    }\n",
       "\n",
       "    .dataframe thead th {\n",
       "        text-align: right;\n",
       "    }\n",
       "</style>\n",
       "<table border=\"1\" class=\"dataframe\">\n",
       "  <thead>\n",
       "    <tr style=\"text-align: right;\">\n",
       "      <th></th>\n",
       "      <th>0</th>\n",
       "      <th>1</th>\n",
       "      <th>diff</th>\n",
       "    </tr>\n",
       "  </thead>\n",
       "  <tbody>\n",
       "    <tr>\n",
       "      <th>0</th>\n",
       "      <td>10057</td>\n",
       "      <td>10281</td>\n",
       "      <td>224</td>\n",
       "    </tr>\n",
       "    <tr>\n",
       "      <th>1</th>\n",
       "      <td>10080</td>\n",
       "      <td>10455</td>\n",
       "      <td>375</td>\n",
       "    </tr>\n",
       "    <tr>\n",
       "      <th>2</th>\n",
       "      <td>10186</td>\n",
       "      <td>10590</td>\n",
       "      <td>404</td>\n",
       "    </tr>\n",
       "    <tr>\n",
       "      <th>3</th>\n",
       "      <td>10331</td>\n",
       "      <td>10626</td>\n",
       "      <td>295</td>\n",
       "    </tr>\n",
       "    <tr>\n",
       "      <th>4</th>\n",
       "      <td>10472</td>\n",
       "      <td>10638</td>\n",
       "      <td>166</td>\n",
       "    </tr>\n",
       "    <tr>\n",
       "      <th>...</th>\n",
       "      <td>...</td>\n",
       "      <td>...</td>\n",
       "      <td>...</td>\n",
       "    </tr>\n",
       "    <tr>\n",
       "      <th>995</th>\n",
       "      <td>99522</td>\n",
       "      <td>99107</td>\n",
       "      <td>415</td>\n",
       "    </tr>\n",
       "    <tr>\n",
       "      <th>996</th>\n",
       "      <td>99667</td>\n",
       "      <td>99196</td>\n",
       "      <td>471</td>\n",
       "    </tr>\n",
       "    <tr>\n",
       "      <th>997</th>\n",
       "      <td>99797</td>\n",
       "      <td>99196</td>\n",
       "      <td>601</td>\n",
       "    </tr>\n",
       "    <tr>\n",
       "      <th>998</th>\n",
       "      <td>99897</td>\n",
       "      <td>99294</td>\n",
       "      <td>603</td>\n",
       "    </tr>\n",
       "    <tr>\n",
       "      <th>999</th>\n",
       "      <td>99960</td>\n",
       "      <td>99347</td>\n",
       "      <td>613</td>\n",
       "    </tr>\n",
       "  </tbody>\n",
       "</table>\n",
       "<p>1000 rows × 3 columns</p>\n",
       "</div>"
      ]
     },
     "execution_count": 5,
     "metadata": {},
     "output_type": "execute_result"
    }
   ],
   "execution_count": 5
  },
  {
   "metadata": {
    "ExecuteTime": {
     "end_time": "2024-12-09T00:32:31.755215Z",
     "start_time": "2024-12-09T00:32:31.753153Z"
    }
   },
   "cell_type": "code",
   "source": "np.sum(reshuffled_df['diff'])",
   "id": "eaf9d342299f91d9",
   "outputs": [
    {
     "data": {
      "text/plain": [
       "np.int64(1889772)"
      ]
     },
     "execution_count": 6,
     "metadata": {},
     "output_type": "execute_result"
    }
   ],
   "execution_count": 6
  },
  {
   "cell_type": "markdown",
   "id": "b19a5fc3",
   "metadata": {},
   "source": [
    "## [Second Puzzle:](https://adventofcode.com/2024/day/1/#part2)"
   ]
  },
  {
   "cell_type": "code",
   "id": "3e3a81e1",
   "metadata": {
    "ExecuteTime": {
     "end_time": "2024-12-09T00:36:15.182472Z",
     "start_time": "2024-12-09T00:36:15.179300Z"
    }
   },
   "source": [
    "right_list_counts = puzzle_input_df[1].value_counts()\n",
    "right_list_counts"
   ],
   "outputs": [
    {
     "data": {
      "text/plain": [
       "1\n",
       "64262    20\n",
       "48777    19\n",
       "60422    18\n",
       "25688    18\n",
       "16605    18\n",
       "         ..\n",
       "74278     1\n",
       "18690     1\n",
       "18749     1\n",
       "87256     1\n",
       "85509     1\n",
       "Name: count, Length: 623, dtype: int64"
      ]
     },
     "execution_count": 10,
     "metadata": {},
     "output_type": "execute_result"
    }
   ],
   "execution_count": 10
  },
  {
   "metadata": {
    "ExecuteTime": {
     "end_time": "2024-12-09T00:40:34.275774Z",
     "start_time": "2024-12-09T00:40:34.272906Z"
    }
   },
   "cell_type": "code",
   "source": [
    "left_list = puzzle_input_df[0]\n",
    "similarity_scores = [i * right_list_counts[i] if i in right_list_counts else 0 for i in left_list]"
   ],
   "id": "862368ea2660ff04",
   "outputs": [],
   "execution_count": 19
  },
  {
   "metadata": {
    "ExecuteTime": {
     "end_time": "2024-12-09T00:40:34.442824Z",
     "start_time": "2024-12-09T00:40:34.440555Z"
    }
   },
   "cell_type": "code",
   "source": "np.sum(similarity_scores)",
   "id": "663a085fc39b2be6",
   "outputs": [
    {
     "data": {
      "text/plain": [
       "np.int64(23228917)"
      ]
     },
     "execution_count": 20,
     "metadata": {},
     "output_type": "execute_result"
    }
   ],
   "execution_count": 20
  }
 ],
 "metadata": {
  "kernelspec": {
   "name": "python3",
   "language": "python",
   "display_name": "Python 3 (ipykernel)"
  }
 },
 "nbformat": 4,
 "nbformat_minor": 5
}
