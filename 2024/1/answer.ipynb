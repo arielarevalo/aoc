{
 "cells": [
  {
   "cell_type": "markdown",
   "id": "20a064f4",
   "metadata": {},
   "source": [
    "# Advent of Code 2024, Day 1"
   ]
  },
  {
   "cell_type": "code",
   "id": "80c2610a",
   "metadata": {},
   "source": [
    "with open('input.txt', 'r') as f:\n",
    "    puzzle_input = f.read().strip()"
   ],
   "outputs": [],
   "execution_count": null
  },
  {
   "cell_type": "markdown",
   "id": "58e244e7",
   "metadata": {},
   "source": [
    "## [First Puzzle:](https://adventofcode.com/2024/day/1)"
   ]
  },
  {
   "cell_type": "code",
   "id": "5dbad4c7",
   "metadata": {},
   "source": [
    "import pandas as pd\n",
    "import numpy as np\n",
    "from io import StringIO"
   ],
   "outputs": [],
   "execution_count": null
  },
  {
   "metadata": {},
   "cell_type": "code",
   "source": [
    "puzzle_input_df = pd.read_csv(StringIO(puzzle_input), delim_whitespace=True, header=None)\n",
    "puzzle_input_df"
   ],
   "id": "8536b6138d8f3484",
   "outputs": [],
   "execution_count": null
  },
  {
   "metadata": {},
   "cell_type": "code",
   "source": [
    "sorted_0 = puzzle_input_df[0].sort_values(ignore_index=True)\n",
    "sorted_1 = puzzle_input_df[1].sort_values(ignore_index=True)\n",
    "\n",
    "reshuffled_df = pd.DataFrame({0: sorted_0, 1: sorted_1})\n",
    "reshuffled_df"
   ],
   "id": "fba350e5e9fe69b2",
   "outputs": [],
   "execution_count": null
  },
  {
   "metadata": {},
   "cell_type": "code",
   "source": [
    "reshuffled_df['diff'] = (reshuffled_df[1] - reshuffled_df[0]).abs()\n",
    "reshuffled_df"
   ],
   "id": "4920eeb41359c552",
   "outputs": [],
   "execution_count": null
  },
  {
   "metadata": {},
   "cell_type": "code",
   "source": "np.sum(reshuffled_df['diff'])",
   "id": "eaf9d342299f91d9",
   "outputs": [],
   "execution_count": null
  },
  {
   "cell_type": "markdown",
   "id": "b19a5fc3",
   "metadata": {},
   "source": [
    "## [Second Puzzle:](https://adventofcode.com/2024/day/1/#part2)"
   ]
  },
  {
   "cell_type": "code",
   "id": "3e3a81e1",
   "metadata": {},
   "source": [
    "right_list_counts = puzzle_input_df[1].value_counts()\n",
    "right_list_counts"
   ],
   "outputs": [],
   "execution_count": null
  },
  {
   "metadata": {},
   "cell_type": "code",
   "source": [
    "left_list = puzzle_input_df[0]\n",
    "similarity_scores = [i * right_list_counts[i] if i in right_list_counts else 0 for i in left_list]"
   ],
   "id": "862368ea2660ff04",
   "outputs": [],
   "execution_count": null
  },
  {
   "metadata": {},
   "cell_type": "code",
   "source": "np.sum(similarity_scores)",
   "id": "663a085fc39b2be6",
   "outputs": [],
   "execution_count": null
  }
 ],
 "metadata": {
  "kernelspec": {
   "name": "python3",
   "language": "python",
   "display_name": "Python 3 (ipykernel)"
  }
 },
 "nbformat": 4,
 "nbformat_minor": 5
}
