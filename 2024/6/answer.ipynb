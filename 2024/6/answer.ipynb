{
 "cells": [
  {
   "cell_type": "markdown",
   "id": "a39da6f5",
   "metadata": {},
   "source": [
    "# Advent of Code 2024, Day 6"
   ]
  },
  {
   "cell_type": "code",
   "id": "c5c85deb",
   "metadata": {},
   "source": [
    "with open('input.txt', 'r') as f:\n",
    "    puzzle_input = f.read().strip()"
   ],
   "outputs": [],
   "execution_count": null
  },
  {
   "cell_type": "markdown",
   "id": "73a6e8de",
   "metadata": {},
   "source": [
    "## [First Puzzle:](https://adventofcode.com/2024/day/6)"
   ]
  },
  {
   "metadata": {},
   "cell_type": "code",
   "source": [
    "import numpy as np\n",
    "from itertools import cycle, islice"
   ],
   "id": "3130a9324356780d",
   "outputs": [],
   "execution_count": null
  },
  {
   "cell_type": "code",
   "id": "59c2f7b3",
   "metadata": {},
   "source": [
    "matrix = np.array([list(line) for line in puzzle_input.split('\\n')])\n",
    "guard_moves = {\n",
    "    '^': (-1, 0),\n",
    "    '>': (0, 1),\n",
    "    'v': (1, 0),\n",
    "    '<': (0, -1)\n",
    "}\n",
    "guard_move_keys = list(guard_moves.keys())"
   ],
   "outputs": [],
   "execution_count": null
  },
  {
   "metadata": {},
   "cell_type": "code",
   "source": [
    "np_coords = np.where(np.isin(matrix, guard_move_keys))\n",
    "if np_coords[0].size == 0:\n",
    "    raise ValueError('No guard found')\n",
    "\n",
    "guard_coords = tuple(c.item() for c in np_coords)\n",
    "guard_char = matrix[guard_coords]"
   ],
   "id": "84536db41767e2e3",
   "outputs": [],
   "execution_count": null
  },
  {
   "metadata": {},
   "cell_type": "code",
   "source": [
    "start_index = guard_move_keys.index(guard_char)\n",
    "cyclic_keys = cycle(guard_move_keys[start_index:] + guard_move_keys[\n",
    "                                                    :start_index])  # Hilariously complicated way to set a starting index\n",
    "next(cyclic_keys)  # Skip the first key"
   ],
   "id": "87b5455e9515e71c",
   "outputs": [],
   "execution_count": null
  },
  {
   "metadata": {},
   "cell_type": "code",
   "source": [
    "def is_valid_index(array, index: tuple):\n",
    "    index = np.array(index)\n",
    "    return (index >= 0).all() and (index < array.shape).all()"
   ],
   "id": "3d7efa2439a7a6ec",
   "outputs": [],
   "execution_count": null
  },
  {
   "metadata": {},
   "cell_type": "code",
   "source": [
    "def get_next_guard(matrix, coords, direction):\n",
    "    next_coords = tuple(np.add(coords, guard_moves[direction]))\n",
    "    if not is_valid_index(matrix, next_coords):\n",
    "        return (None, None)\n",
    "\n",
    "    next_char = matrix[next_coords]\n",
    "\n",
    "    while next_char == '#':\n",
    "        direction = next(cyclic_keys)\n",
    "        next_coords = tuple(np.add(coords, guard_moves[direction]))\n",
    "        next_char = matrix[next_coords]\n",
    "\n",
    "        if not is_valid_index(matrix, next_coords):\n",
    "            return (None, None)\n",
    "\n",
    "    return next_coords, direction"
   ],
   "id": "201d0710429803e4",
   "outputs": [],
   "execution_count": null
  },
  {
   "metadata": {},
   "cell_type": "code",
   "source": [
    "old_coords = guard_coords\n",
    "current_coords = guard_coords"
   ],
   "id": "c5661f4fceb035a2",
   "outputs": [],
   "execution_count": null
  },
  {
   "metadata": {},
   "cell_type": "code",
   "source": [
    "iterations = 0\n",
    "while current_coords:\n",
    "    iterations += 1\n",
    "    matrix[current_coords] = guard_char\n",
    "    matrix[old_coords] = 'X'\n",
    "    old_coords = current_coords\n",
    "    current_coords, guard_char = get_next_guard(matrix, current_coords, guard_char)\n",
    "\n",
    "matrix[old_coords] = 'X'"
   ],
   "id": "d5e80c97e09c6316",
   "outputs": [],
   "execution_count": null
  },
  {
   "metadata": {},
   "cell_type": "code",
   "source": "np.count_nonzero(matrix == 'X')",
   "id": "95d9d1550fe13c3e",
   "outputs": [],
   "execution_count": null
  },
  {
   "cell_type": "markdown",
   "id": "d5626f8c",
   "metadata": {},
   "source": [
    "## [Second Puzzle:](https://adventofcode.com/2024/day/6/#part2)"
   ]
  },
  {
   "metadata": {},
   "cell_type": "code",
   "source": [
    "# puzzle_input = \"\"\"....#.....\n",
    "# .........#\n",
    "# ..........\n",
    "# ..#.......\n",
    "# .......#..\n",
    "# ..........\n",
    "# .#..^.....\n",
    "# ........#.\n",
    "# #.........\n",
    "# ......#...\"\"\""
   ],
   "id": "2bd6900d8d327e38",
   "outputs": [],
   "execution_count": null
  },
  {
   "cell_type": "code",
   "id": "3c041df8",
   "metadata": {},
   "source": [
    "matrix = np.array([list(line) for line in puzzle_input.split('\\n')])\n",
    "guard_moves = {\n",
    "    '^': (-1, 0),\n",
    "    '>': (0, 1),\n",
    "    'v': (1, 0),\n",
    "    '<': (0, -1)\n",
    "}\n",
    "guard_cycle = {\n",
    "    '^': '>',\n",
    "    '>': 'v',\n",
    "    'v': '<',\n",
    "    '<': '^'\n",
    "}"
   ],
   "outputs": [],
   "execution_count": null
  },
  {
   "metadata": {},
   "cell_type": "code",
   "source": [
    "np_coords = np.where(np.isin(matrix, guard_move_keys))\n",
    "if np_coords[0].size == 0:\n",
    "    raise ValueError('No guard found')\n",
    "\n",
    "guard_coords = tuple(c.item() for c in np_coords)\n",
    "guard_char = matrix[guard_coords]"
   ],
   "id": "1c7a0e96ecd5d431",
   "outputs": [],
   "execution_count": null
  },
  {
   "metadata": {},
   "cell_type": "code",
   "source": [
    "def get_next_coords(matrix, current_coords, current_direction):\n",
    "    next_direction = current_direction\n",
    "    next_coords = tuple(np.add(current_coords, guard_moves[current_direction]))\n",
    "\n",
    "    if not is_valid_index(matrix, next_coords):\n",
    "        return (None, None)\n",
    "\n",
    "    next_char = matrix[next_coords]\n",
    "\n",
    "    while next_char == '#':\n",
    "        next_direction = guard_cycle[next_direction]\n",
    "        next_coords = tuple(np.add(current_coords, guard_moves[next_direction]))\n",
    "\n",
    "        if not is_valid_index(matrix, next_coords):\n",
    "            return (None, None)\n",
    "\n",
    "        next_char = matrix[next_coords]\n",
    "\n",
    "    return next_coords, next_direction"
   ],
   "id": "2176320986a595f1",
   "outputs": [],
   "execution_count": null
  },
  {
   "metadata": {},
   "cell_type": "code",
   "source": [
    "def is_cycle(matrix, current_coords, current_direction) -> bool: # Returns True if the guard is stuck in a loop\n",
    "    steps = 0\n",
    "    while current_coords:\n",
    "        current_coords, current_direction = get_next_coords(matrix, current_coords, current_direction)\n",
    "        steps += 1\n",
    "        if steps > 2*matrix.size:\n",
    "            return True\n",
    "    return False"
   ],
   "id": "324d68b6127c04a8",
   "outputs": [],
   "execution_count": null
  },
  {
   "metadata": {},
   "cell_type": "code",
   "source": [
    "rows, cols = matrix.shape\n",
    "new_matrices = []\n",
    "\n",
    "for r in range(rows):\n",
    "    for c in range(cols):\n",
    "        blockade_coords = (r,c)\n",
    "        if blockade_coords != guard_coords and matrix[r, c] != \"#\":\n",
    "            new_matrix = matrix.copy()\n",
    "            new_matrix[r, c] = \"#\"\n",
    "            new_matrices.append((blockade_coords, new_matrix))"
   ],
   "id": "780863f3718fc902",
   "outputs": [],
   "execution_count": null
  },
  {
   "metadata": {},
   "cell_type": "code",
   "source": "from tqdm import tqdm",
   "id": "723c12b541be38eb",
   "outputs": [],
   "execution_count": null
  },
  {
   "metadata": {},
   "cell_type": "code",
   "source": [
    "blockades = set()\n",
    "for blockade_coords, new_matrix in tqdm(new_matrices):\n",
    "    if is_cycle(new_matrix, guard_coords, guard_char):\n",
    "        blockades.add(blockade_coords)"
   ],
   "id": "259dfc6bf17b1dd3",
   "outputs": [],
   "execution_count": null
  },
  {
   "metadata": {},
   "cell_type": "code",
   "source": "len(blockades) # 1328",
   "id": "64c50210d1617487",
   "outputs": [],
   "execution_count": null
  }
 ],
 "metadata": {
  "kernelspec": {
   "name": "python3",
   "language": "python",
   "display_name": "Python 3 (ipykernel)"
  }
 },
 "nbformat": 4,
 "nbformat_minor": 5
}
