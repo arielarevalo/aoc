{
 "cells": [
  {
   "cell_type": "markdown",
   "id": "1e699566",
   "metadata": {},
   "source": [
    "# Advent of Code 2024, Day 11"
   ]
  },
  {
   "cell_type": "code",
   "id": "e289f561",
   "metadata": {},
   "source": [
    "with open('input.txt', 'r') as f:\n",
    "    puzzle_input = f.read().strip()"
   ],
   "outputs": [],
   "execution_count": null
  },
  {
   "metadata": {},
   "cell_type": "code",
   "source": "from collections import Counter",
   "id": "7f4cadf0fef5f5ba",
   "outputs": [],
   "execution_count": null
  },
  {
   "cell_type": "markdown",
   "id": "efdcb37b",
   "metadata": {},
   "source": [
    "## [First Puzzle:](https://adventofcode.com/2024/day/11)"
   ]
  },
  {
   "cell_type": "code",
   "id": "4c2cc786",
   "metadata": {},
   "source": "stones = puzzle_input.split(' ')",
   "outputs": [],
   "execution_count": null
  },
  {
   "metadata": {},
   "cell_type": "code",
   "source": [
    "def update(stone):\n",
    "    if int(stone) == 0:\n",
    "        return [str(1)]\n",
    "    \n",
    "    num_of_digits = len(stone)\n",
    "    if num_of_digits % 2 == 0:\n",
    "        left = str(int(stone[:num_of_digits//2]))\n",
    "        right = str(int(stone[num_of_digits//2:]))\n",
    "        return [left, right]\n",
    "    else:\n",
    "        return [str(int(stone) * 2024)]"
   ],
   "id": "958f95b578f8ece3",
   "outputs": [],
   "execution_count": null
  },
  {
   "metadata": {},
   "cell_type": "code",
   "source": [
    "for i in range(25):\n",
    "    stones = [new_stone for stone in stones for new_stone in update(stone)]"
   ],
   "id": "1087b889d03bec82",
   "outputs": [],
   "execution_count": null
  },
  {
   "metadata": {},
   "cell_type": "code",
   "source": "len(stones)",
   "id": "b2636b4a3dd87119",
   "outputs": [],
   "execution_count": null
  },
  {
   "cell_type": "markdown",
   "id": "b09de178",
   "metadata": {},
   "source": [
    "## [Second Puzzle:](https://adventofcode.com/2024/day/11/#part2)"
   ]
  },
  {
   "metadata": {},
   "cell_type": "code",
   "source": "stones = Counter(puzzle_input.split(' '))",
   "id": "5c201385128058c",
   "outputs": [],
   "execution_count": null
  },
  {
   "metadata": {},
   "cell_type": "code",
   "source": [
    "for _ in range(75):\n",
    "    new_stones = Counter()\n",
    "    for stone, count in stones.items():\n",
    "        for new_stone in update(stone):\n",
    "            new_stones[new_stone] += count\n",
    "    stones = new_stones"
   ],
   "id": "3c152d0ae2b9fa9f",
   "outputs": [],
   "execution_count": null
  },
  {
   "metadata": {},
   "cell_type": "code",
   "source": "stones.total()",
   "id": "303c0fd0919d96e9",
   "outputs": [],
   "execution_count": null
  }
 ],
 "metadata": {
  "kernelspec": {
   "name": "python3",
   "language": "python",
   "display_name": "Python 3 (ipykernel)"
  }
 },
 "nbformat": 4,
 "nbformat_minor": 5
}
