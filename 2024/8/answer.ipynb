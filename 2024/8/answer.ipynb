{
 "cells": [
  {
   "cell_type": "markdown",
   "id": "f2a9a268",
   "metadata": {},
   "source": [
    "# Advent of Code 2024, Day 8"
   ]
  },
  {
   "cell_type": "code",
   "id": "2ee46992",
   "metadata": {},
   "source": [
    "with open('input.txt', 'r') as f:\n",
    "    puzzle_input = f.read().strip()"
   ],
   "outputs": [],
   "execution_count": null
  },
  {
   "metadata": {},
   "cell_type": "code",
   "source": [
    "import numpy as np\n",
    "from itertools import combinations"
   ],
   "id": "410887de128fef0e",
   "outputs": [],
   "execution_count": null
  },
  {
   "metadata": {},
   "cell_type": "code",
   "source": [
    "def is_valid_index(array, index):\n",
    "    return (index >= 0).all() and (index < array.shape).all()"
   ],
   "id": "eb2323f3fec717ac",
   "outputs": [],
   "execution_count": null
  },
  {
   "metadata": {},
   "cell_type": "markdown",
   "source": "## [First Puzzle:](https://adventofcode.com/2024/day/8)",
   "id": "dc409069"
  },
  {
   "metadata": {},
   "cell_type": "code",
   "source": "matrix = np.array([list(line) for line in puzzle_input.split('\\n')])",
   "id": "b20627694c9efc73",
   "outputs": [],
   "execution_count": null
  },
  {
   "metadata": {},
   "cell_type": "code",
   "source": [
    "antenna_flavors = np.unique(matrix) # Both class and type are keywords so fuck me\n",
    "antenna_flavors = antenna_flavors[antenna_flavors != '.']"
   ],
   "id": "23122f1934cbdc9b",
   "outputs": [],
   "execution_count": null
  },
  {
   "metadata": {},
   "cell_type": "code",
   "source": "flavor_indices = [np.argwhere(matrix == antenna_class) for antenna_class in antenna_flavors]",
   "id": "58252110346a419f",
   "outputs": [],
   "execution_count": null
  },
  {
   "metadata": {},
   "cell_type": "code",
   "source": [
    "antinodes = set()\n",
    "for flavor in flavor_indices:\n",
    "    for pair in combinations(flavor, 2):\n",
    "        point_1, point_2 = pair\n",
    "        for candidate in [point_1 + 2 * (point_2 - point_1), point_2 + 2 * (point_1 - point_2)]:\n",
    "            if is_valid_index(matrix, candidate):\n",
    "                antinodes.add(tuple(candidate))"
   ],
   "id": "b94db89df2ac5588",
   "outputs": [],
   "execution_count": null
  },
  {
   "metadata": {},
   "cell_type": "code",
   "source": [
    "for antinode in antinodes:\n",
    "    if matrix[antinode] == '.':\n",
    "        matrix[antinode] = '#'    "
   ],
   "id": "ac9a37653aea74e6",
   "outputs": [],
   "execution_count": null
  },
  {
   "metadata": {},
   "cell_type": "code",
   "source": "len(antinodes)",
   "id": "837c780c9585f70d",
   "outputs": [],
   "execution_count": null
  },
  {
   "cell_type": "markdown",
   "id": "3468c136",
   "metadata": {},
   "source": [
    "## [Second Puzzle:](https://adventofcode.com/2024/day/8/#part2)"
   ]
  },
  {
   "cell_type": "code",
   "id": "968e4d71",
   "metadata": {},
   "source": "matrix = np.array([list(line) for line in puzzle_input.split('\\n')])",
   "outputs": [],
   "execution_count": null
  },
  {
   "metadata": {},
   "cell_type": "code",
   "source": [
    "antenna_flavors = np.unique(matrix) # Both class and type are keywords so fuck me\n",
    "antenna_flavors = antenna_flavors[antenna_flavors != '.']"
   ],
   "id": "f5b7d0a9f9be9072",
   "outputs": [],
   "execution_count": null
  },
  {
   "metadata": {},
   "cell_type": "code",
   "source": "flavor_indices = [np.argwhere(matrix == antenna_class) for antenna_class in antenna_flavors]",
   "id": "822de026fe002cb8",
   "outputs": [],
   "execution_count": null
  },
  {
   "metadata": {},
   "cell_type": "code",
   "source": [
    "antinodes = set()\n",
    "antinode_count = 0\n",
    "for flavor in flavor_indices:\n",
    "    for pair in combinations(flavor, 2):\n",
    "        for i in range(len(pair)):\n",
    "            scale = 1\n",
    "            candidate = pair[i] + scale * (pair[1-i] - pair[i])\n",
    "            while is_valid_index(matrix, candidate):\n",
    "                antinode_count +=1\n",
    "                antinodes.add(tuple(candidate))\n",
    "                scale += 1\n",
    "                candidate = pair[i] + scale * (pair[1-i] - pair[i])"
   ],
   "id": "c453d8c0460619da",
   "outputs": [],
   "execution_count": null
  },
  {
   "metadata": {},
   "cell_type": "code",
   "source": [
    "for antinode in antinodes:\n",
    "    if matrix[antinode] == '.':\n",
    "        matrix[antinode] = '#'    "
   ],
   "id": "36cb40f3f0120394",
   "outputs": [],
   "execution_count": null
  },
  {
   "metadata": {},
   "cell_type": "code",
   "source": "len(antinodes)",
   "id": "26ad65b7508d144e",
   "outputs": [],
   "execution_count": null
  }
 ],
 "metadata": {
  "kernelspec": {
   "name": "python3",
   "language": "python",
   "display_name": "Python 3 (ipykernel)"
  }
 },
 "nbformat": 4,
 "nbformat_minor": 5
}
