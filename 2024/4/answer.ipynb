{
 "cells": [
  {
   "cell_type": "markdown",
   "id": "8c980db7",
   "metadata": {},
   "source": [
    "# Advent of Code 2024, Day 4"
   ]
  },
  {
   "cell_type": "code",
   "id": "08494cf5",
   "metadata": {},
   "source": [
    "with open('input.txt', 'r') as f:\n",
    "    puzzle_input = f.read().strip()"
   ],
   "outputs": [],
   "execution_count": null
  },
  {
   "metadata": {},
   "cell_type": "code",
   "source": "import numpy as np",
   "id": "d5e011305d4fd546",
   "outputs": [],
   "execution_count": null
  },
  {
   "cell_type": "markdown",
   "id": "52adc77b",
   "metadata": {},
   "source": [
    "## [First Puzzle:](https://adventofcode.com/2024/day/4)"
   ]
  },
  {
   "metadata": {},
   "cell_type": "code",
   "source": "matrix = np.array([list(line) for line in puzzle_input.split('\\n')])",
   "id": "dc283f4e0c9565d1",
   "outputs": [],
   "execution_count": null
  },
  {
   "metadata": {},
   "cell_type": "code",
   "source": [
    "horizontals = matrix.tolist()\n",
    "\n",
    "verticals = matrix.T.tolist()\n",
    "\n",
    "pos_diags = [matrix[::-1, :].diagonal(i).tolist() for i in range(-matrix.shape[0] + 1, matrix.shape[1])]\n",
    "pos_diags = [diag for diag in pos_diags if len(diag) > 3]\n",
    "\n",
    "neg_diags = [matrix.diagonal(i).tolist() for i in range(matrix.shape[1] - 1, -matrix.shape[0], -1)]\n",
    "neg_diags = [diag for diag in neg_diags if len(diag) > 3]\n",
    "\n",
    "lines = horizontals + verticals + pos_diags + neg_diags"
   ],
   "id": "3b24d7171f495d21",
   "outputs": [],
   "execution_count": null
  },
  {
   "metadata": {},
   "cell_type": "code",
   "source": [
    "xmas_list = list('XMAS')\n",
    "samx_list = list('SAMX')\n",
    "\n",
    "count = 0\n",
    "for line in lines:\n",
    "    for i in range(len(line) - len('XMAS') + 1):\n",
    "        sublist = line[i:i + len('XMAS')]\n",
    "        if sublist == xmas_list or sublist == samx_list:\n",
    "            count += 1"
   ],
   "id": "4c8c86652a0fc149",
   "outputs": [],
   "execution_count": null
  },
  {
   "metadata": {},
   "cell_type": "code",
   "source": "count",
   "id": "997eeac3d913c1a",
   "outputs": [],
   "execution_count": null
  },
  {
   "cell_type": "markdown",
   "id": "edb2dfd2",
   "metadata": {},
   "source": [
    "## [Second Puzzle:](https://adventofcode.com/2024/day/4/#part2)"
   ]
  },
  {
   "metadata": {},
   "cell_type": "code",
   "source": "from numpy.lib.stride_tricks import as_strided",
   "id": "f9efdb7a0dccde75",
   "outputs": [],
   "execution_count": null
  },
  {
   "metadata": {},
   "cell_type": "code",
   "source": [
    "sub_shape = (3, 3)\n",
    "view_shape = tuple(np.subtract(matrix.shape, sub_shape) + 1) + sub_shape\n",
    "mat_views = as_strided(matrix, view_shape, matrix.strides * 2)\n",
    "mat_views = mat_views.reshape((-1,) + sub_shape)"
   ],
   "id": "abbee86c52f777e9",
   "outputs": [],
   "execution_count": null
  },
  {
   "metadata": {},
   "cell_type": "code",
   "source": [
    "mas_list = list('MAS')\n",
    "sam_list = list('SAM')\n",
    "\n",
    "count = 0\n",
    "for mv in mat_views:\n",
    "    pos_diag = mv[::-1].diagonal()\n",
    "    neg_diag = mv.diagonal()\n",
    "\n",
    "    if (np.array_equal(pos_diag, mas_list) or np.array_equal(pos_diag, sam_list)) \\\n",
    "            and (np.array_equal(neg_diag, mas_list) or np.array_equal(neg_diag, sam_list)):\n",
    "        count += 1"
   ],
   "id": "2ef913b9cd1af400",
   "outputs": [],
   "execution_count": null
  },
  {
   "metadata": {},
   "cell_type": "code",
   "source": "count",
   "id": "d78ac32c8400caaf",
   "outputs": [],
   "execution_count": null
  }
 ],
 "metadata": {
  "kernelspec": {
   "name": "python3",
   "language": "python",
   "display_name": "Python 3 (ipykernel)"
  }
 },
 "nbformat": 4,
 "nbformat_minor": 5
}
