{
 "cells": [
  {
   "cell_type": "markdown",
   "id": "d65e1b9c",
   "metadata": {},
   "source": [
    "# Advent of Code 2024, Day 2"
   ]
  },
  {
   "cell_type": "code",
   "id": "bfb44f09",
   "metadata": {},
   "source": [
    "with open('input.txt', 'r') as f:\n",
    "    puzzle_input = f.read().strip()"
   ],
   "outputs": [],
   "execution_count": null
  },
  {
   "metadata": {},
   "cell_type": "code",
   "source": "puzzle_input",
   "id": "737a89a12410c68a",
   "outputs": [],
   "execution_count": null
  },
  {
   "cell_type": "markdown",
   "id": "4f0a586f",
   "metadata": {},
   "source": [
    "## [First Puzzle:](https://adventofcode.com/2024/day/2)"
   ]
  },
  {
   "cell_type": "code",
   "id": "8aa7910e",
   "metadata": {},
   "source": [
    "import pandas as pd\n",
    "import numpy as np\n",
    "from io import StringIO"
   ],
   "outputs": [],
   "execution_count": null
  },
  {
   "metadata": {},
   "cell_type": "code",
   "source": [
    "puzzle_input_df = pd.read_csv(StringIO(puzzle_input), delim_whitespace=True, header=None)\n",
    "puzzle_input_df"
   ],
   "id": "6c7901e33edb4378",
   "outputs": [],
   "execution_count": null
  },
  {
   "metadata": {},
   "cell_type": "code",
   "source": [
    "delta_df = pd.DataFrame()\n",
    "for i in puzzle_input_df.columns[1:]:\n",
    "    delta_df[f\"d_{i}\"] = puzzle_input_df[i] - puzzle_input_df[i - 1]\n",
    "delta_df"
   ],
   "id": "64ab92452ff12131",
   "outputs": [],
   "execution_count": null
  },
  {
   "metadata": {},
   "cell_type": "code",
   "source": [
    "safe_by_magnitude = delta_df[\n",
    "    delta_df.apply(lambda x: (((np.abs(x) > 0) & (np.abs(x) < 4)) | np.isnan(x)).all(), axis=1)]\n",
    "safe_by_magnitude"
   ],
   "id": "19850f0ece38836a",
   "outputs": [],
   "execution_count": null
  },
  {
   "metadata": {},
   "cell_type": "code",
   "source": [
    "safe_by_sign = safe_by_magnitude[\n",
    "    safe_by_magnitude.apply(lambda x: (((x > 0) | np.isnan(x)).all() or ((x < 0) | np.isnan(x)).all()), axis=1)]\n",
    "safe_by_sign"
   ],
   "id": "3dacb110ef88068d",
   "outputs": [],
   "execution_count": null
  },
  {
   "metadata": {},
   "cell_type": "code",
   "source": "len(safe_by_sign)",
   "id": "a0520237631a28d6",
   "outputs": [],
   "execution_count": null
  },
  {
   "cell_type": "markdown",
   "id": "67c149c5",
   "metadata": {},
   "source": [
    "## [Second Puzzle:](https://adventofcode.com/2024/day/2/#part2)"
   ]
  },
  {
   "metadata": {},
   "cell_type": "code",
   "source": [
    "def is_safe_subset(row):\n",
    "    for exclude_idx in range(len(row)):\n",
    "        subset = row[np.arange(len(row)) != exclude_idx]\n",
    "        delta = np.diff(subset)\n",
    "\n",
    "        magnitude_condition = (((np.abs(delta) > 0) & (np.abs(delta) < 4)) | np.isnan(delta)).all()\n",
    "        sign_condition = ((delta > 0) | np.isnan(delta)).all() or ((delta < 0) | np.isnan(delta)).all()\n",
    "\n",
    "        if magnitude_condition and sign_condition:\n",
    "            return True\n",
    "    return False"
   ],
   "id": "caf39db826757bc5",
   "outputs": [],
   "execution_count": null
  },
  {
   "metadata": {},
   "cell_type": "code",
   "source": "safe_reports = puzzle_input_df.apply(is_safe_subset, axis=1)",
   "id": "9b8a78fc84fb10c",
   "outputs": [],
   "execution_count": null
  },
  {
   "metadata": {},
   "cell_type": "code",
   "source": "safe_reports.sum()",
   "id": "6e4eb92ae2189251",
   "outputs": [],
   "execution_count": null
  }
 ],
 "metadata": {
  "kernelspec": {
   "name": "python3",
   "language": "python",
   "display_name": "Python 3 (ipykernel)"
  }
 },
 "nbformat": 4,
 "nbformat_minor": 5
}
