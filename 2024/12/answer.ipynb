{
 "cells": [
  {
   "cell_type": "markdown",
   "id": "3fdc732a",
   "metadata": {},
   "source": [
    "# Advent of Code 2024, Day 12"
   ]
  },
  {
   "cell_type": "code",
   "id": "715a3558",
   "metadata": {
    "ExecuteTime": {
     "end_time": "2024-12-23T22:42:27.028344Z",
     "start_time": "2024-12-23T22:42:27.025013Z"
    }
   },
   "source": [
    "with open('input.txt', 'r') as f:\n",
    "    puzzle_input = f.read().strip()"
   ],
   "outputs": [],
   "execution_count": 1412
  },
  {
   "metadata": {
    "ExecuteTime": {
     "end_time": "2024-12-23T22:42:27.038461Z",
     "start_time": "2024-12-23T22:42:27.036918Z"
    }
   },
   "cell_type": "code",
   "source": [
    "puzzle_input = \"\"\"OOOOO\n",
    "OXOXO\n",
    "OOOOO\n",
    "OXOXO\n",
    "OOOOO\"\"\""
   ],
   "id": "ffe389928056f24d",
   "outputs": [],
   "execution_count": 1413
  },
  {
   "metadata": {
    "ExecuteTime": {
     "end_time": "2024-12-23T22:42:27.045156Z",
     "start_time": "2024-12-23T22:42:27.043411Z"
    }
   },
   "cell_type": "code",
   "source": [
    "import networkx as nx\n",
    "import numpy as np"
   ],
   "id": "2eb422e186846888",
   "outputs": [],
   "execution_count": 1414
  },
  {
   "cell_type": "markdown",
   "id": "d9cbbdb3",
   "metadata": {},
   "source": [
    "## [First Puzzle:](https://adventofcode.com/2024/day/12)"
   ]
  },
  {
   "cell_type": "code",
   "id": "23557478",
   "metadata": {
    "ExecuteTime": {
     "end_time": "2024-12-23T22:42:27.052428Z",
     "start_time": "2024-12-23T22:42:27.047412Z"
    }
   },
   "source": [
    "matrix = np.array([list(row) for row in puzzle_input.split(\"\\n\")])\n",
    "\n",
    "G = nx.grid_2d_graph(*matrix.shape)\n",
    "\n",
    "for (x1, y1), (x2, y2) in G.edges:\n",
    "    if matrix[x1, y1] == matrix[x2, y2]:\n",
    "        G.add_edge((x1, y1), (x2, y2), edge_type=\"region\")\n",
    "    else:\n",
    "        G.add_edge((x1, y1), (x2, y2), edge_type=\"boundary\")\n",
    "\n",
    "region_edges = [(u, v) for u, v, d in G.edges(data=True) if d[\"edge_type\"] == \"region\"]\n",
    "region_subgraph = nx.Graph()\n",
    "region_subgraph.add_edges_from(region_edges)\n",
    "\n",
    "for node in G.nodes:\n",
    "    if node not in region_subgraph:\n",
    "        region_subgraph.add_node(node)\n",
    "\n",
    "regions = []\n",
    "for component in nx.connected_components(region_subgraph):\n",
    "    representative_node = next(iter(component))\n",
    "    region_value = matrix[representative_node]\n",
    "    regions.append((region_value, list(component)))"
   ],
   "outputs": [],
   "execution_count": 1415
  },
  {
   "metadata": {
    "ExecuteTime": {
     "end_time": "2024-12-23T22:42:27.056659Z",
     "start_time": "2024-12-23T22:42:27.054391Z"
    }
   },
   "cell_type": "code",
   "source": [
    "region_area_perimeter = [{'region': region, \n",
    "  'area': len(region[1]),\n",
    "  'perimeter': sum(1 for node in region[1] for neighbor in G.neighbors(node) if G[node][neighbor].get(\"edge_type\") == \"boundary\")\n",
    "} for region in regions]"
   ],
   "id": "459c7412c8fbd0",
   "outputs": [],
   "execution_count": 1416
  },
  {
   "metadata": {
    "ExecuteTime": {
     "end_time": "2024-12-23T22:42:27.060462Z",
     "start_time": "2024-12-23T22:42:27.058458Z"
    }
   },
   "cell_type": "code",
   "source": [
    "# Add matrix bounds to perimeter total\n",
    "for rap in region_area_perimeter:\n",
    "    for node in rap['region'][1]:\n",
    "        if node[0] == 0:\n",
    "            rap['perimeter'] += 1\n",
    "        if node[0] == matrix.shape[0] - 1:\n",
    "            rap['perimeter'] += 1\n",
    "        if node[1] == 0:\n",
    "            rap['perimeter'] += 1\n",
    "        if node[1] == matrix.shape[1] - 1:\n",
    "            rap['perimeter'] += 1"
   ],
   "id": "2b32cda2f0181ed8",
   "outputs": [],
   "execution_count": 1417
  },
  {
   "metadata": {
    "ExecuteTime": {
     "end_time": "2024-12-23T22:42:27.063678Z",
     "start_time": "2024-12-23T22:42:27.062171Z"
    }
   },
   "cell_type": "code",
   "source": "region_prices = [rap['area'] * rap['perimeter'] for rap in region_area_perimeter]",
   "id": "7a2272c70858532d",
   "outputs": [],
   "execution_count": 1418
  },
  {
   "metadata": {
    "ExecuteTime": {
     "end_time": "2024-12-23T22:42:27.068671Z",
     "start_time": "2024-12-23T22:42:27.066705Z"
    }
   },
   "cell_type": "code",
   "source": "sum(region_prices)",
   "id": "815743fea25ba4b1",
   "outputs": [
    {
     "data": {
      "text/plain": [
       "772"
      ]
     },
     "execution_count": 1419,
     "metadata": {},
     "output_type": "execute_result"
    }
   ],
   "execution_count": 1419
  },
  {
   "cell_type": "markdown",
   "id": "f56de91c",
   "metadata": {},
   "source": "## [Second Puzzle:](https://adventofcode.com/2024/day/12/#part2)"
  },
  {
   "metadata": {
    "ExecuteTime": {
     "end_time": "2024-12-23T22:42:27.078322Z",
     "start_time": "2024-12-23T22:42:27.076230Z"
    }
   },
   "cell_type": "code",
   "source": [
    "num_matrix = np.zeros_like(matrix, dtype=int)\n",
    "for i in range(len(regions)):\n",
    "    for node in regions[i][1]:\n",
    "        num_matrix[node] = i + 1\n",
    "        \n",
    "# Gotta upsample it since a pixel isn't actually a square and counting inner sides gets weird because of that\n",
    "num_matrix = np.repeat(np.repeat(num_matrix, 4, axis=0), 4, axis=1)\n",
    "\n",
    "# Add padding to make sure the contours are closed\n",
    "num_matrix = np.pad(num_matrix, pad_width=1, mode='constant', constant_values=0)"
   ],
   "id": "4d4d2ced60ca4203",
   "outputs": [],
   "execution_count": 1420
  },
  {
   "metadata": {
    "ExecuteTime": {
     "end_time": "2024-12-23T22:42:27.083967Z",
     "start_time": "2024-12-23T22:42:27.082023Z"
    }
   },
   "cell_type": "code",
   "source": "matrix",
   "id": "bdb9be1d68a26d",
   "outputs": [
    {
     "data": {
      "text/plain": [
       "array([['O', 'O', 'O', 'O', 'O'],\n",
       "       ['O', 'X', 'O', 'X', 'O'],\n",
       "       ['O', 'O', 'O', 'O', 'O'],\n",
       "       ['O', 'X', 'O', 'X', 'O'],\n",
       "       ['O', 'O', 'O', 'O', 'O']], dtype='<U1')"
      ]
     },
     "execution_count": 1421,
     "metadata": {},
     "output_type": "execute_result"
    }
   ],
   "execution_count": 1421
  },
  {
   "metadata": {
    "ExecuteTime": {
     "end_time": "2024-12-23T22:42:27.105680Z",
     "start_time": "2024-12-23T22:42:27.103231Z"
    }
   },
   "cell_type": "code",
   "source": "num_matrix",
   "id": "58d8b6c03ab3b8d9",
   "outputs": [
    {
     "data": {
      "text/plain": [
       "array([[0, 0, 0, 0, 0, 0, 0, 0, 0, 0, 0, 0, 0, 0, 0, 0, 0, 0, 0, 0, 0, 0],\n",
       "       [0, 1, 1, 1, 1, 1, 1, 1, 1, 1, 1, 1, 1, 1, 1, 1, 1, 1, 1, 1, 1, 0],\n",
       "       [0, 1, 1, 1, 1, 1, 1, 1, 1, 1, 1, 1, 1, 1, 1, 1, 1, 1, 1, 1, 1, 0],\n",
       "       [0, 1, 1, 1, 1, 1, 1, 1, 1, 1, 1, 1, 1, 1, 1, 1, 1, 1, 1, 1, 1, 0],\n",
       "       [0, 1, 1, 1, 1, 1, 1, 1, 1, 1, 1, 1, 1, 1, 1, 1, 1, 1, 1, 1, 1, 0],\n",
       "       [0, 1, 1, 1, 1, 2, 2, 2, 2, 1, 1, 1, 1, 3, 3, 3, 3, 1, 1, 1, 1, 0],\n",
       "       [0, 1, 1, 1, 1, 2, 2, 2, 2, 1, 1, 1, 1, 3, 3, 3, 3, 1, 1, 1, 1, 0],\n",
       "       [0, 1, 1, 1, 1, 2, 2, 2, 2, 1, 1, 1, 1, 3, 3, 3, 3, 1, 1, 1, 1, 0],\n",
       "       [0, 1, 1, 1, 1, 2, 2, 2, 2, 1, 1, 1, 1, 3, 3, 3, 3, 1, 1, 1, 1, 0],\n",
       "       [0, 1, 1, 1, 1, 1, 1, 1, 1, 1, 1, 1, 1, 1, 1, 1, 1, 1, 1, 1, 1, 0],\n",
       "       [0, 1, 1, 1, 1, 1, 1, 1, 1, 1, 1, 1, 1, 1, 1, 1, 1, 1, 1, 1, 1, 0],\n",
       "       [0, 1, 1, 1, 1, 1, 1, 1, 1, 1, 1, 1, 1, 1, 1, 1, 1, 1, 1, 1, 1, 0],\n",
       "       [0, 1, 1, 1, 1, 1, 1, 1, 1, 1, 1, 1, 1, 1, 1, 1, 1, 1, 1, 1, 1, 0],\n",
       "       [0, 1, 1, 1, 1, 4, 4, 4, 4, 1, 1, 1, 1, 5, 5, 5, 5, 1, 1, 1, 1, 0],\n",
       "       [0, 1, 1, 1, 1, 4, 4, 4, 4, 1, 1, 1, 1, 5, 5, 5, 5, 1, 1, 1, 1, 0],\n",
       "       [0, 1, 1, 1, 1, 4, 4, 4, 4, 1, 1, 1, 1, 5, 5, 5, 5, 1, 1, 1, 1, 0],\n",
       "       [0, 1, 1, 1, 1, 4, 4, 4, 4, 1, 1, 1, 1, 5, 5, 5, 5, 1, 1, 1, 1, 0],\n",
       "       [0, 1, 1, 1, 1, 1, 1, 1, 1, 1, 1, 1, 1, 1, 1, 1, 1, 1, 1, 1, 1, 0],\n",
       "       [0, 1, 1, 1, 1, 1, 1, 1, 1, 1, 1, 1, 1, 1, 1, 1, 1, 1, 1, 1, 1, 0],\n",
       "       [0, 1, 1, 1, 1, 1, 1, 1, 1, 1, 1, 1, 1, 1, 1, 1, 1, 1, 1, 1, 1, 0],\n",
       "       [0, 1, 1, 1, 1, 1, 1, 1, 1, 1, 1, 1, 1, 1, 1, 1, 1, 1, 1, 1, 1, 0],\n",
       "       [0, 0, 0, 0, 0, 0, 0, 0, 0, 0, 0, 0, 0, 0, 0, 0, 0, 0, 0, 0, 0, 0]])"
      ]
     },
     "execution_count": 1422,
     "metadata": {},
     "output_type": "execute_result"
    }
   ],
   "execution_count": 1422
  },
  {
   "metadata": {
    "ExecuteTime": {
     "end_time": "2024-12-23T22:42:27.139383Z",
     "start_time": "2024-12-23T22:42:27.136379Z"
    }
   },
   "cell_type": "code",
   "source": [
    "from skimage.measure import find_contours\n",
    "from shapely.geometry import Polygon\n",
    "\n",
    "contours = [np.concatenate(find_contours(num_matrix == i, level=0)) for i in range(1, len(regions) + 1)]\n",
    "\n",
    "polygons = [set(Polygon(contour).simplify(1, preserve_topology=True).exterior.coords[:-1]) for contour in contours]"
   ],
   "id": "709b05ec0138d1f3",
   "outputs": [],
   "execution_count": 1423
  },
  {
   "metadata": {
    "ExecuteTime": {
     "end_time": "2024-12-23T22:42:27.164428Z",
     "start_time": "2024-12-23T22:42:27.162258Z"
    }
   },
   "cell_type": "code",
   "source": "contours[2]",
   "id": "788783b241dd6c5",
   "outputs": [
    {
     "data": {
      "text/plain": [
       "array([[ 9., 16.],\n",
       "       [ 9., 15.],\n",
       "       [ 9., 14.],\n",
       "       [ 9., 13.],\n",
       "       [ 8., 12.],\n",
       "       [ 7., 12.],\n",
       "       [ 6., 12.],\n",
       "       [ 5., 12.],\n",
       "       [ 4., 13.],\n",
       "       [ 4., 14.],\n",
       "       [ 4., 15.],\n",
       "       [ 4., 16.],\n",
       "       [ 5., 17.],\n",
       "       [ 6., 17.],\n",
       "       [ 7., 17.],\n",
       "       [ 8., 17.],\n",
       "       [ 9., 16.]])"
      ]
     },
     "execution_count": 1424,
     "metadata": {},
     "output_type": "execute_result"
    }
   ],
   "execution_count": 1424
  },
  {
   "metadata": {
    "ExecuteTime": {
     "end_time": "2024-12-23T22:42:27.190872Z",
     "start_time": "2024-12-23T22:42:27.188956Z"
    }
   },
   "cell_type": "code",
   "source": "polygons[2]",
   "id": "d4f5b8e924d8de",
   "outputs": [
    {
     "data": {
      "text/plain": [
       "{(4.0, 13.0), (5.0, 17.0), (8.0, 12.0), (9.0, 16.0)}"
      ]
     },
     "execution_count": 1425,
     "metadata": {},
     "output_type": "execute_result"
    }
   ],
   "execution_count": 1425
  },
  {
   "metadata": {
    "ExecuteTime": {
     "end_time": "2024-12-23T22:42:27.209884Z",
     "start_time": "2024-12-23T22:42:27.208184Z"
    }
   },
   "cell_type": "code",
   "source": "region_prices = [region_area_perimeter[i]['area'] * len(polygons[i]) for i in range(len(regions))]",
   "id": "a00654c6fce4ea95",
   "outputs": [],
   "execution_count": 1426
  },
  {
   "metadata": {
    "ExecuteTime": {
     "end_time": "2024-12-23T22:42:27.218545Z",
     "start_time": "2024-12-23T22:42:27.216720Z"
    }
   },
   "cell_type": "code",
   "source": "sum(region_prices)",
   "id": "531fcd387c502e34",
   "outputs": [
    {
     "data": {
      "text/plain": [
       "688"
      ]
     },
     "execution_count": 1427,
     "metadata": {},
     "output_type": "execute_result"
    }
   ],
   "execution_count": 1427
  }
 ],
 "metadata": {
  "kernelspec": {
   "name": "python3",
   "language": "python",
   "display_name": "Python 3 (ipykernel)"
  }
 },
 "nbformat": 4,
 "nbformat_minor": 5
}
