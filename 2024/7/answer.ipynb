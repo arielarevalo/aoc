{
 "cells": [
  {
   "cell_type": "markdown",
   "id": "2d1422d0",
   "metadata": {},
   "source": [
    "# Advent of Code 2024, Day 7"
   ]
  },
  {
   "cell_type": "code",
   "id": "5c74bd4f",
   "metadata": {},
   "source": [
    "with open('input.txt', 'r') as f:\n",
    "    puzzle_input = f.read().strip()"
   ],
   "outputs": [],
   "execution_count": null
  },
  {
   "cell_type": "markdown",
   "id": "c070070a",
   "metadata": {},
   "source": [
    "## [First Puzzle:](https://adventofcode.com/2024/day/7)"
   ]
  },
  {
   "cell_type": "code",
   "id": "a7a096d8",
   "metadata": {},
   "source": "operators = {'+', '*', '||'}",
   "outputs": [],
   "execution_count": null
  },
  {
   "metadata": {},
   "cell_type": "code",
   "source": [
    "lines = puzzle_input.split('\\n')\n",
    "pairs = [(line.split(': ')[0], line.split(': ')[1].split()) for line in lines]"
   ],
   "id": "56382accbf009518",
   "outputs": [],
   "execution_count": null
  },
  {
   "metadata": {},
   "cell_type": "code",
   "source": [
    "import itertools\n",
    "\n",
    "def generate_expressions(numbers, operators):\n",
    "    if len(numbers) < 2:\n",
    "        raise ValueError(\"At least two numbers are required.\")\n",
    "\n",
    "    operator_combinations = itertools.product(operators, repeat=len(numbers) - 1)\n",
    "\n",
    "    expressions = []\n",
    "    for ops in operator_combinations:\n",
    "        expression = \"\".join(str(num) + op for num, op in zip(numbers, ops)) + str(numbers[-1])\n",
    "        expressions.append(expression)\n",
    "\n",
    "    return expressions"
   ],
   "id": "856f4dd94c0d2933",
   "outputs": [],
   "execution_count": null
  },
  {
   "metadata": {},
   "cell_type": "code",
   "source": [
    "import re\n",
    "\n",
    "def tokenize(expression, operators):\n",
    "    operator_pattern = '|'.join(re.escape(op) for op in sorted(operators, key=len, reverse=True))\n",
    "    pattern = rf'(\\d+|{operator_pattern})'\n",
    "    tokens = re.findall(pattern, expression)\n",
    "\n",
    "    for i in range(len(tokens)):\n",
    "        if tokens[i].isdigit():\n",
    "            tokens[i] = int(tokens[i])\n",
    "    return tokens"
   ],
   "id": "6c3e696c069f1d40",
   "outputs": [],
   "execution_count": null
  },
  {
   "metadata": {},
   "cell_type": "code",
   "source": [
    "def custom_evaluate(expression, operators):\n",
    "    tokens = tokenize(expression, operators)\n",
    "\n",
    "    result = tokens[0]\n",
    "    i = 1\n",
    "    while i < len(tokens):\n",
    "        operator = tokens[i]\n",
    "        operand = tokens[i + 1]\n",
    "        if operator == '+':\n",
    "            result += operand\n",
    "        elif operator == '*':\n",
    "            result *= operand\n",
    "        elif operator == '||':\n",
    "            result = int(str(result) + str(operand))  # Concatenate as strings, then convert back to int\n",
    "        else:\n",
    "            raise ValueError(f\"Unsupported operator: {operator}\")\n",
    "        i += 2\n",
    "\n",
    "    return result"
   ],
   "id": "d43e3940d69a6851",
   "outputs": [],
   "execution_count": null
  },
  {
   "metadata": {},
   "cell_type": "code",
   "source": "permutations = [generate_expressions(pair[1], operators) for pair in pairs]",
   "id": "3f1b68973f0e47b3",
   "outputs": [],
   "execution_count": null
  },
  {
   "metadata": {},
   "cell_type": "code",
   "source": "correct_equations = [i for i in range(len(pairs)) if any(custom_evaluate(equation, operators) == int(pairs[i][0]) for equation in permutations[i])]",
   "id": "12a977ae18a1792c",
   "outputs": [],
   "execution_count": null
  },
  {
   "metadata": {},
   "cell_type": "code",
   "source": "sum([int(pairs[i][0]) for i in correct_equations])",
   "id": "f5d8997782b6863a",
   "outputs": [],
   "execution_count": null
  },
  {
   "cell_type": "markdown",
   "id": "147ba012",
   "metadata": {},
   "source": [
    "## [Second Puzzle:](https://adventofcode.com/2024/day/7/#part2)"
   ]
  },
  {
   "cell_type": "code",
   "id": "c56efe52",
   "metadata": {},
   "source": "",
   "outputs": [],
   "execution_count": null
  }
 ],
 "metadata": {
  "kernelspec": {
   "name": "python3",
   "language": "python",
   "display_name": "Python 3 (ipykernel)"
  }
 },
 "nbformat": 4,
 "nbformat_minor": 5
}
