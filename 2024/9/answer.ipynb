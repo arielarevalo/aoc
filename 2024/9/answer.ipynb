{
 "cells": [
  {
   "cell_type": "markdown",
   "id": "1a7a4cf3",
   "metadata": {},
   "source": [
    "# Advent of Code 2024, Day 9"
   ]
  },
  {
   "cell_type": "code",
   "id": "4d42190c",
   "metadata": {},
   "source": [
    "with open('input.txt', 'r') as f:\n",
    "    puzzle_input = f.read().strip()"
   ],
   "outputs": [],
   "execution_count": null
  },
  {
   "metadata": {},
   "cell_type": "code",
   "source": "import numpy as np",
   "id": "dd9db9f5418f3316",
   "outputs": [],
   "execution_count": null
  },
  {
   "cell_type": "markdown",
   "id": "76d15154",
   "metadata": {},
   "source": [
    "## [First Puzzle:](https://adventofcode.com/2024/day/9)"
   ]
  },
  {
   "metadata": {},
   "cell_type": "code",
   "source": "dense_map = np.array(list(puzzle_input))",
   "id": "55dc8450235574d5",
   "outputs": [],
   "execution_count": null
  },
  {
   "metadata": {},
   "cell_type": "code",
   "source": [
    "tuple_map = []\n",
    "file_id = 0\n",
    "\n",
    "for i in range(len(dense_map)):\n",
    "    if i % 2 == 0:\n",
    "        # File blocks\n",
    "        tuple_map.extend([str(file_id)] * int(dense_map[i]))\n",
    "        file_id += 1\n",
    "    else:\n",
    "        # Free space\n",
    "        tuple_map.extend(['.'] * int(dense_map[i]))"
   ],
   "id": "8035ef403372e378",
   "outputs": [],
   "execution_count": null
  },
  {
   "metadata": {},
   "cell_type": "code",
   "source": "tuple_map = np.array(tuple_map)",
   "id": "629796e1419d5e64",
   "outputs": [],
   "execution_count": null
  },
  {
   "metadata": {},
   "cell_type": "code",
   "source": [
    "free_indices = np.argwhere(tuple_map == '.').ravel()\n",
    "hole_index_count = len(free_indices)"
   ],
   "id": "395a5c06ae608b55",
   "outputs": [],
   "execution_count": null
  },
  {
   "metadata": {},
   "cell_type": "code",
   "source": [
    "while not (tuple_map[::-1][:hole_index_count] == '.').all():\n",
    "    # Leftmost free space\n",
    "    free_indices = np.argwhere(tuple_map == '.').ravel()\n",
    "    leftmost_hole = free_indices[0]\n",
    "\n",
    "    # Rightmost file block\n",
    "    reversed_file_indices = np.argwhere(tuple_map != '.')[::-1].ravel()\n",
    "    rightmost_file = reversed_file_indices[0]\n",
    "\n",
    "    # Move the block\n",
    "    tuple_map[leftmost_hole] = tuple_map[rightmost_file]\n",
    "    tuple_map[rightmost_file] = '.'"
   ],
   "id": "2a013b8d05c60c86",
   "outputs": [],
   "execution_count": null
  },
  {
   "metadata": {},
   "cell_type": "code",
   "source": [
    "file_indices = np.argwhere(tuple_map != '.').ravel()\n",
    "files = tuple_map[file_indices].astype(int)\n",
    "np.dot(files, file_indices)"
   ],
   "id": "d3be623c62a8ee9e",
   "outputs": [],
   "execution_count": null
  },
  {
   "metadata": {},
   "cell_type": "markdown",
   "source": "",
   "id": "4baa453e9d763863"
  },
  {
   "cell_type": "markdown",
   "id": "35443fee",
   "metadata": {},
   "source": [
    "## [Second Puzzle:](https://adventofcode.com/2024/day/9/#part2)"
   ]
  },
  {
   "metadata": {
    "ExecuteTime": {
     "end_time": "2024-12-20T02:04:26.862158Z",
     "start_time": "2024-12-20T02:04:26.859171Z"
    }
   },
   "cell_type": "code",
   "source": [
    "with open('input.txt', 'r') as f:\n",
    "    puzzle_input = f.read().strip()"
   ],
   "id": "3020ebc5d60c4f5c",
   "outputs": [],
   "execution_count": 87
  },
  {
   "metadata": {
    "ExecuteTime": {
     "end_time": "2024-12-20T02:04:27.351886Z",
     "start_time": "2024-12-20T02:04:27.348684Z"
    }
   },
   "cell_type": "code",
   "source": "dense_map = np.array(list(puzzle_input))",
   "id": "9005a27b",
   "outputs": [],
   "execution_count": 88
  },
  {
   "metadata": {
    "ExecuteTime": {
     "end_time": "2024-12-20T02:04:27.442064Z",
     "start_time": "2024-12-20T02:04:27.432770Z"
    }
   },
   "cell_type": "code",
   "source": [
    "tuple_map = []\n",
    "file_id = 0\n",
    "\n",
    "for i in range(len(dense_map)):\n",
    "    if i % 2 == 0:\n",
    "        # Files\n",
    "        tuple_map.append((str(file_id), int(dense_map[i]))) # Id, size tuple\n",
    "        file_id += 1\n",
    "    else:\n",
    "        # Holes\n",
    "        tuple_map.append(('.', int(dense_map[i])))"
   ],
   "id": "6f906a71cccfed08",
   "outputs": [],
   "execution_count": 89
  },
  {
   "metadata": {
    "ExecuteTime": {
     "end_time": "2024-12-20T02:04:27.521658Z",
     "start_time": "2024-12-20T02:04:27.517171Z"
    }
   },
   "cell_type": "code",
   "source": "tuple_map = np.array(tuple_map, dtype=[('id', 'U50'), ('size', int)])",
   "id": "39dcdafb80207d22",
   "outputs": [],
   "execution_count": 90
  },
  {
   "metadata": {
    "ExecuteTime": {
     "end_time": "2024-12-20T02:04:27.604042Z",
     "start_time": "2024-12-20T02:04:27.601464Z"
    }
   },
   "cell_type": "code",
   "source": [
    "def merge_consecutive_holes(tuple_map):\n",
    "    merged_map = []\n",
    "    current_hole_size = 0\n",
    "    \n",
    "    for item_id, item_size in tuple_map:\n",
    "        if item_id == '.':\n",
    "            current_hole_size += item_size\n",
    "        else:\n",
    "            if current_hole_size > 0:\n",
    "                merged_map.append(('.', current_hole_size))\n",
    "                current_hole_size = 0\n",
    "            merged_map.append((item_id, item_size))\n",
    "    if current_hole_size > 0:\n",
    "        merged_map.append(('.', current_hole_size))\n",
    "    return np.array(merged_map, dtype=[('id', 'U50'), ('size', int)])"
   ],
   "id": "67d6d366dad555d6",
   "outputs": [],
   "execution_count": 91
  },
  {
   "metadata": {
    "ExecuteTime": {
     "end_time": "2024-12-20T02:04:27.690472Z",
     "start_time": "2024-12-20T02:04:27.687915Z"
    }
   },
   "cell_type": "code",
   "source": "tuple_map",
   "id": "c09df7251dc04fa4",
   "outputs": [
    {
     "data": {
      "text/plain": [
       "array([('0', 6), ('.', 3), ('1', 3), ..., ('9998', 2), ('.', 9),\n",
       "       ('9999', 3)],\n",
       "      shape=(19999,), dtype=[('id', '<U50'), ('size', '<i8')])"
      ]
     },
     "execution_count": 92,
     "metadata": {},
     "output_type": "execute_result"
    }
   ],
   "execution_count": 92
  },
  {
   "metadata": {
    "ExecuteTime": {
     "end_time": "2024-12-20T02:04:27.785573Z",
     "start_time": "2024-12-20T02:04:27.783727Z"
    }
   },
   "cell_type": "code",
   "source": "hole_indices = np.argwhere(tuple_map['id'] == '.').ravel()",
   "id": "eb409a372e7f9fd8",
   "outputs": [],
   "execution_count": 93
  },
  {
   "metadata": {
    "ExecuteTime": {
     "end_time": "2024-12-20T02:04:27.856508Z",
     "start_time": "2024-12-20T02:04:27.854265Z"
    }
   },
   "cell_type": "code",
   "source": "reversed_file_indices = np.argwhere(tuple_map['id'] != '.')[::-1].ravel()",
   "id": "c85411ceba35baa5",
   "outputs": [],
   "execution_count": 94
  },
  {
   "metadata": {
    "ExecuteTime": {
     "end_time": "2024-12-20T02:06:50.130792Z",
     "start_time": "2024-12-20T02:04:27.938691Z"
    }
   },
   "cell_type": "code",
   "source": [
    "# The highest file ID is file_id - 1 (since file_id was incremented after last file)\n",
    "max_file_id = file_id - 1\n",
    "\n",
    "# Process files in descending order by their ID\n",
    "for f_id in range(max_file_id, -1, -1):\n",
    "    # Merge holes before attempting to move the next file, \n",
    "    # to ensure we have correct contiguous free space representation\n",
    "    tuple_map = merge_consecutive_holes(tuple_map)\n",
    "    \n",
    "    # Find the file in the current tuple_map\n",
    "    file_positions = np.argwhere(tuple_map['id'] == str(f_id)).ravel()\n",
    "    if len(file_positions) == 0:\n",
    "        # If this file does not exist anymore or was somehow moved incorrectly, skip it\n",
    "        continue\n",
    "    file_index = file_positions[0]  # The index in tuple_map describing this file\n",
    "    file_size = tuple_map[file_index]['size']\n",
    "    \n",
    "    # Find a suitable hole to the left that can fit the entire file\n",
    "    # We'll consider holes from left to right\n",
    "    hole_indices = np.argwhere(tuple_map['id'] == '.').ravel()\n",
    "    moved = False\n",
    "    for h in hole_indices:\n",
    "        # The hole must be to the left of the file\n",
    "        if h < file_index:\n",
    "            hole_size = tuple_map[h]['size']\n",
    "            if hole_size >= file_size:\n",
    "                # We can move the file here:\n",
    "                file_entry = tuple_map[file_index]\n",
    "                \n",
    "                # Remove the file entry from its current position\n",
    "                tuple_map = np.delete(tuple_map, file_index)\n",
    "                \n",
    "                # Adjust indices if removal is after the hole\n",
    "                if file_index < h:\n",
    "                    h -= 1\n",
    "                \n",
    "                # Adjust the hole\n",
    "                if hole_size > file_size:\n",
    "                    # Reduce the hole size\n",
    "                    tuple_map[h] = ('.', hole_size - file_size)\n",
    "                else:\n",
    "                    # Hole size == file_size, remove the hole entirely\n",
    "                    tuple_map = np.delete(tuple_map, h)\n",
    "                    # If we removed the hole which was before file insertion point,\n",
    "                    # we do not need to adjust h since we will insert at the same position\n",
    "                    # now occupied by next element.\n",
    "\n",
    "                # Insert the file at the hole's position\n",
    "                tuple_map = np.insert(tuple_map, h, file_entry)\n",
    "                moved = True\n",
    "                break"
   ],
   "id": "944cf8bd2f8678c5",
   "outputs": [],
   "execution_count": 95
  },
  {
   "metadata": {
    "ExecuteTime": {
     "end_time": "2024-12-20T02:07:07.344963Z",
     "start_time": "2024-12-20T02:07:07.331154Z"
    }
   },
   "cell_type": "code",
   "source": "tuple_map = merge_consecutive_holes(tuple_map)",
   "id": "da3d22102a2bd80e",
   "outputs": [],
   "execution_count": 99
  },
  {
   "metadata": {
    "ExecuteTime": {
     "end_time": "2024-12-20T02:07:07.837283Z",
     "start_time": "2024-12-20T02:07:07.815356Z"
    }
   },
   "cell_type": "code",
   "source": "sparse_map = np.concatenate([[item[0]] * int(item[1]) for item in tuple_map])",
   "id": "e44a91fc77f3e5fb",
   "outputs": [],
   "execution_count": 100
  },
  {
   "metadata": {
    "ExecuteTime": {
     "end_time": "2024-12-20T02:07:08.569418Z",
     "start_time": "2024-12-20T02:07:08.566925Z"
    }
   },
   "cell_type": "code",
   "source": "sparse_map",
   "id": "8ebb0f4ceab6b95f",
   "outputs": [
    {
     "data": {
      "text/plain": [
       "array(['0', '0', '0', ..., '.', '.', '.'], shape=(71209,), dtype='<U4')"
      ]
     },
     "execution_count": 101,
     "metadata": {},
     "output_type": "execute_result"
    }
   ],
   "execution_count": 101
  },
  {
   "metadata": {
    "ExecuteTime": {
     "end_time": "2024-12-20T02:07:09.656651Z",
     "start_time": "2024-12-20T02:07:09.645719Z"
    }
   },
   "cell_type": "code",
   "source": [
    "file_indices = np.argwhere(sparse_map != '.')[::-1].ravel()\n",
    "files = sparse_map[file_indices].astype(int)\n",
    "np.dot(files, file_indices)"
   ],
   "id": "4e03af7b49fd918a",
   "outputs": [
    {
     "data": {
      "text/plain": [
       "np.int64(6311911420845)"
      ]
     },
     "execution_count": 102,
     "metadata": {},
     "output_type": "execute_result"
    }
   ],
   "execution_count": 102
  },
  {
   "metadata": {},
   "cell_type": "code",
   "outputs": [],
   "execution_count": null,
   "source": "",
   "id": "ea95b098dd32cd38"
  }
 ],
 "metadata": {
  "kernelspec": {
   "name": "python3",
   "language": "python",
   "display_name": "Python 3 (ipykernel)"
  }
 },
 "nbformat": 4,
 "nbformat_minor": 5
}
