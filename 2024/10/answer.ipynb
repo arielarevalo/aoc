{
 "cells": [
  {
   "cell_type": "markdown",
   "id": "49d79727",
   "metadata": {},
   "source": [
    "# Advent of Code 2024, Day 10"
   ]
  },
  {
   "cell_type": "code",
   "id": "cbf541c1",
   "metadata": {},
   "source": [
    "with open('input.txt', 'r') as f:\n",
    "    puzzle_input = f.read().strip()"
   ],
   "outputs": [],
   "execution_count": null
  },
  {
   "metadata": {},
   "cell_type": "code",
   "source": [
    "import networkx as nx\n",
    "from collections import Counter"
   ],
   "id": "2d8ceedf7b9b723d",
   "outputs": [],
   "execution_count": null
  },
  {
   "cell_type": "markdown",
   "id": "450cb3d3",
   "metadata": {},
   "source": [
    "## [First Puzzle:](https://adventofcode.com/2024/day/10)"
   ]
  },
  {
   "metadata": {},
   "cell_type": "code",
   "source": [
    "matrix = [list(map(int, line)) for line in puzzle_input.split('\\n')]\n",
    "\n",
    "rows, cols = len(matrix), len(matrix[0])"
   ],
   "id": "e59ecd117623fe4",
   "outputs": [],
   "execution_count": null
  },
  {
   "metadata": {},
   "cell_type": "code",
   "source": [
    "gradual_uphill_steps = nx.DiGraph()\n",
    "\n",
    "for i in range(rows):\n",
    "    for j in range(cols):\n",
    "        for ni, nj in [(i+1, j), (i-1, j), (i, j+1), (i, j-1)]:\n",
    "            if 0 <= ni < rows and 0 <= nj < cols and matrix[ni][nj] == matrix[i][j] + 1: # Adjacent inbound cells one step up\n",
    "                gradual_uphill_steps.add_edge((i, j), (ni, nj))"
   ],
   "id": "746f8b5e160d1800",
   "outputs": [],
   "execution_count": null
  },
  {
   "metadata": {},
   "cell_type": "code",
   "source": [
    "zeroes = [(i, j) for i, row in enumerate(matrix) for j, value in enumerate(row) if value == 0]\n",
    "nines = [(i, j) for i, row in enumerate(matrix) for j, value in enumerate(row) if value == 9]"
   ],
   "id": "d0237f951c264d6d",
   "outputs": [],
   "execution_count": null
  },
  {
   "metadata": {},
   "cell_type": "code",
   "source": [
    "hiking_trails = []\n",
    "for start_node in zeroes:\n",
    "    for end_node in nines:\n",
    "        try:\n",
    "            next(nx.all_simple_paths(gradual_uphill_steps, source=start_node, target=end_node))\n",
    "        except StopIteration:\n",
    "            continue\n",
    "        else:\n",
    "            hiking_trails.append((start_node, end_node))"
   ],
   "id": "26c333b09a02de1e",
   "outputs": [],
   "execution_count": null
  },
  {
   "metadata": {},
   "cell_type": "code",
   "source": [
    "trailheads = [trail[0] for trail in hiking_trails]\n",
    "\n",
    "counts = Counter(trailheads)\n",
    "\n",
    "sum([count for count in counts.values()])"
   ],
   "id": "3579413c9fbac12d",
   "outputs": [],
   "execution_count": null
  },
  {
   "cell_type": "markdown",
   "id": "8e62b6d3",
   "metadata": {},
   "source": [
    "## [Second Puzzle:](https://adventofcode.com/2024/day/10/#part2)"
   ]
  },
  {
   "cell_type": "code",
   "id": "9b72cf94",
   "metadata": {},
   "source": "sum(1 for start_node in zeroes for end_node in nines for _ in nx.all_simple_paths(gradual_uphill_steps, source=start_node, target=end_node))",
   "outputs": [],
   "execution_count": null
  }
 ],
 "metadata": {
  "kernelspec": {
   "name": "python3",
   "language": "python",
   "display_name": "Python 3 (ipykernel)"
  }
 },
 "nbformat": 4,
 "nbformat_minor": 5
}
