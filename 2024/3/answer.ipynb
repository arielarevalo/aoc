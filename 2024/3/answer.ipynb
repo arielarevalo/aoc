{
 "cells": [
  {
   "cell_type": "markdown",
   "id": "56a346fc",
   "metadata": {},
   "source": [
    "# Advent of Code 2024, Day 3"
   ]
  },
  {
   "cell_type": "code",
   "id": "4dbb5254",
   "metadata": {},
   "source": [
    "with open('input.txt', 'r') as f:\n",
    "    puzzle_input = f.read().strip()"
   ],
   "outputs": [],
   "execution_count": null
  },
  {
   "cell_type": "markdown",
   "id": "5457e7fb",
   "metadata": {},
   "source": [
    "## [First Puzzle:](https://adventofcode.com/2024/day/3)"
   ]
  },
  {
   "cell_type": "code",
   "id": "bba854b5",
   "metadata": {},
   "source": "import re",
   "outputs": [],
   "execution_count": null
  },
  {
   "metadata": {},
   "cell_type": "code",
   "source": "mul_exprs = re.findall(r'mul\\((\\d{1,3}),(\\d{1,3})\\)', puzzle_input)",
   "id": "b30865b3a736a673",
   "outputs": [],
   "execution_count": null
  },
  {
   "metadata": {},
   "cell_type": "code",
   "source": "sum([int(x)*int(y) for x,y in mul_exprs])",
   "id": "9bddfedd55caa9eb",
   "outputs": [],
   "execution_count": null
  },
  {
   "cell_type": "markdown",
   "id": "3d96f4f1",
   "metadata": {},
   "source": [
    "## [Second Puzzle:](https://adventofcode.com/2024/day/3/#part2)"
   ]
  },
  {
   "metadata": {},
   "cell_type": "code",
   "source": "exprs = re.findall(r'(mul\\((\\d{1,3}),(\\d{1,3})\\)|do\\(\\)|don\\'t\\(\\))', puzzle_input)",
   "id": "2aba46118342a655",
   "outputs": [],
   "execution_count": null
  },
  {
   "metadata": {},
   "cell_type": "code",
   "source": [
    "total = 0\n",
    "enabled = True\n",
    "for expr in exprs:\n",
    "    if expr[0] == 'do()':\n",
    "        enabled = True\n",
    "    elif expr[0] == 'don\\'t()':\n",
    "        enabled = False\n",
    "    else:\n",
    "        if enabled:\n",
    "            total += int(expr[1])*int(expr[2])"
   ],
   "id": "9b7610e18db190de",
   "outputs": [],
   "execution_count": null
  },
  {
   "metadata": {},
   "cell_type": "code",
   "source": "total",
   "id": "d325f87ded5735b9",
   "outputs": [],
   "execution_count": null
  }
 ],
 "metadata": {
  "kernelspec": {
   "name": "python3",
   "language": "python",
   "display_name": "Python 3 (ipykernel)"
  }
 },
 "nbformat": 4,
 "nbformat_minor": 5
}
