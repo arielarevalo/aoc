{
 "cells": [
  {
   "cell_type": "markdown",
   "id": "aea7ee08",
   "metadata": {},
   "source": [
    "# Advent of Code 2024, Day 13"
   ]
  },
  {
   "cell_type": "code",
   "id": "d0e63a99",
   "metadata": {},
   "source": [
    "with open('input.txt', 'r') as f:\n",
    "    puzzle_input = f.read().strip()"
   ],
   "outputs": [],
   "execution_count": null
  },
  {
   "metadata": {},
   "cell_type": "code",
   "source": [
    "# puzzle_input = \"\"\"Button A: X+94, Y+34\n",
    "# Button B: X+22, Y+67\n",
    "# Prize: X=8400, Y=5400\n",
    "# \n",
    "# Button A: X+26, Y+66\n",
    "# Button B: X+67, Y+21\n",
    "# Prize: X=12748, Y=12176\n",
    "# \n",
    "# Button A: X+17, Y+86\n",
    "# Button B: X+84, Y+37\n",
    "# Prize: X=7870, Y=6450\n",
    "# \n",
    "# Button A: X+69, Y+23\n",
    "# Button B: X+27, Y+71\n",
    "# Prize: X=18641, Y=10279\"\"\""
   ],
   "id": "8871f0b59085f360",
   "outputs": [],
   "execution_count": null
  },
  {
   "cell_type": "markdown",
   "id": "9849d814",
   "metadata": {},
   "source": [
    "## [First Puzzle:](https://adventofcode.com/2024/day/13)"
   ]
  },
  {
   "cell_type": "code",
   "id": "25e70c33",
   "metadata": {},
   "source": [
    "lines = puzzle_input.split('\\n')\n",
    "values = [split[1] for line in lines if (split := line.split(':')) and len(split) > 1]\n",
    "button_a_values = [values[i] for i in range(0, len(values), 3)]\n",
    "button_b_values = [values[i] for i in range(1, len(values), 3)]\n",
    "prize_values = [values[i] for i in range(2, len(values), 3)]"
   ],
   "outputs": [],
   "execution_count": null
  },
  {
   "metadata": {},
   "cell_type": "code",
   "source": [
    "import re\n",
    "\n",
    "for i in range(0, len(prize_values)):\n",
    "    prize_values[i] = re.findall(r'\\b\\d+\\b', prize_values[i])\n",
    "    prize_values[i] = [int(value) for value in prize_values[i]]\n",
    "\n",
    "    button_a_values[i] = re.findall(r'\\b\\d+\\b', button_a_values[i])\n",
    "    button_a_values[i] = [int(value) for value in button_a_values[i]]\n",
    "\n",
    "    button_b_values[i] = re.findall(r'\\b\\d+\\b', button_b_values[i])\n",
    "    button_b_values[i] = [int(value) for value in button_b_values[i]]"
   ],
   "id": "6af5517489cfbcf1",
   "outputs": [],
   "execution_count": null
  },
  {
   "metadata": {},
   "cell_type": "code",
   "source": [
    "def find_solutions(x1, y1, x2, y2, x, y, a_range, b_range):\n",
    "    solutions = []\n",
    "    for a in a_range:\n",
    "        for b in b_range:\n",
    "            if a * x1 + b * x2 == x and a * y1 + b * y2 == y:\n",
    "                solutions.append((a, b))\n",
    "    return solutions"
   ],
   "id": "8f7732f7cc72e9d2",
   "outputs": [],
   "execution_count": null
  },
  {
   "metadata": {},
   "cell_type": "code",
   "source": [
    "solutionses = [\n",
    "    find_solutions(*button_a_values[i], *button_b_values[i], *prize_values[i], a_range=range(0, 100),\n",
    "                   b_range=range(0, 100)) for i in range(len(prize_values))\n",
    "]"
   ],
   "id": "feb4bc9d7d394e5d",
   "outputs": [],
   "execution_count": null
  },
  {
   "metadata": {},
   "cell_type": "code",
   "source": [
    "solutionses_with_costs = [[(solution[0], solution[1], 3 * solution[0] + solution[1]) for solution in solutions] for\n",
    "                       solutions in solutionses]"
   ],
   "id": "2fac1cd96771b5b3",
   "outputs": [],
   "execution_count": null
  },
  {
   "metadata": {},
   "cell_type": "code",
   "source": [
    "sum(\n",
    "    min(solutions, key=lambda x: x[2])[2] if solutions else 0\n",
    "    for solutions in solutionses_with_costs\n",
    ")"
   ],
   "id": "a351e74778d2c5cf",
   "outputs": [],
   "execution_count": null
  },
  {
   "cell_type": "markdown",
   "id": "4321f626",
   "metadata": {},
   "source": [
    "## [Second Puzzle:](https://adventofcode.com/2024/day/13/#part2)"
   ]
  },
  {
   "cell_type": "code",
   "id": "02ff740e",
   "metadata": {},
   "source": [
    "lines = puzzle_input.split('\\n')\n",
    "values = [split[1] for line in lines if (split := line.split(':')) and len(split) > 1]\n",
    "button_a_values = [values[i] for i in range(0, len(values), 3)]\n",
    "button_b_values = [values[i] for i in range(1, len(values), 3)]\n",
    "prize_values = [values[i] for i in range(2, len(values), 3)]"
   ],
   "outputs": [],
   "execution_count": null
  },
  {
   "metadata": {},
   "cell_type": "code",
   "source": [
    "import re\n",
    "\n",
    "for i in range(0, len(prize_values)):\n",
    "    prize_values[i] = re.findall(r'\\b\\d+\\b', prize_values[i])\n",
    "    prize_values[i] = [int(value) for value in prize_values[i]]\n",
    "\n",
    "    button_a_values[i] = re.findall(r'\\b\\d+\\b', button_a_values[i])\n",
    "    button_a_values[i] = [int(value) for value in button_a_values[i]]\n",
    "\n",
    "    button_b_values[i] = re.findall(r'\\b\\d+\\b', button_b_values[i])\n",
    "    button_b_values[i] = [int(value) for value in button_b_values[i]]"
   ],
   "id": "cb7c30ef54fdca5b",
   "outputs": [],
   "execution_count": null
  },
  {
   "metadata": {},
   "cell_type": "code",
   "source": "BIG_NUMBER = 10000000000000",
   "id": "206583da18c8ccd0",
   "outputs": [],
   "execution_count": null
  },
  {
   "metadata": {},
   "cell_type": "code",
   "source": [
    "for i in range(0, len(prize_values)):\n",
    "    prize_values[i] = [value + BIG_NUMBER for value in prize_values[i]]"
   ],
   "id": "54ea206019112ddf",
   "outputs": [],
   "execution_count": null
  },
  {
   "metadata": {},
   "cell_type": "code",
   "source": [
    "def extended_gcd(a, b):\n",
    "    \"\"\"\n",
    "    Returns (g, x, y) such that a*x + b*y = g = gcd(a, b).\n",
    "    \"\"\"\n",
    "    if b == 0:\n",
    "        return a, 1, 0\n",
    "    g, x1, y1 = extended_gcd(b, a % b)\n",
    "    # By back-substitution:\n",
    "    # a*x + b*y = g\n",
    "    # => (b)*(x1) + (a % b)*(y1) = g\n",
    "    return g, y1, x1 - (a // b) * y1\n",
    "\n",
    "def smallest_sum_solution(x1, y1, x2, y2, x0, y0):\n",
    "    \"\"\"\n",
    "    Returns the (a, b) that solves:\n",
    "        a*x1 + b*x2 = x0\n",
    "        a*y1 + b*y2 = y0\n",
    "    and that minimizes a + b.\n",
    "    \n",
    "    If no such solution exists, returns None.\n",
    "    \"\"\"\n",
    "\n",
    "    # --- 1) Solve first equation x1*a + x2*b = x0 via EEA.\n",
    "    g1, s1, t1 = extended_gcd(x1, x2)  # gcd(x1,x2) = g1\n",
    "    if x0 % g1 != 0:\n",
    "        return None  # No solution possible for eqn1\n",
    "    \n",
    "    # Particular solution to eqn1:\n",
    "    #  x1*(s1) + x2*(t1) = g1\n",
    "    # So for x0, we scale up by factor:\n",
    "    scale = x0 // g1\n",
    "    a_part = s1 * scale\n",
    "    b_part = t1 * scale\n",
    "    \n",
    "    # General solution: a = a_part + k*(x2/g1), b = b_part - k*(x1/g1)\n",
    "    dx = x2 // g1\n",
    "    dy = x1 // g1\n",
    "\n",
    "    # --- 2) Impose second equation: y1*a + y2*b = y0\n",
    "    # M = y1*(x2/g1) - y2*(x1/g1), C = y0 - (y1*a_part + y2*b_part)\n",
    "    M = y1*dx - y2*dy\n",
    "    C = y0 - (y1*a_part + y2*b_part)\n",
    "\n",
    "    def a_of(k):\n",
    "        return a_part + k*dx\n",
    "    def b_of(k):\n",
    "        return b_part - k*dy\n",
    "\n",
    "    if M == 0:\n",
    "        # 2a) If M=0 but C != 0 => no solutions\n",
    "        if C != 0:\n",
    "            return None\n",
    "        \n",
    "        # 2b) If M=0 and C=0 => infinite solutions\n",
    "        # => second eq is automatically satisfied for *all* integer k.\n",
    "        # We must minimize a(k)+b(k) subject to a(k) >= 0, b(k) >= 0 (if required).\n",
    "        \n",
    "        # sum_of(k) = a_part + b_part + k*(dx - dy)\n",
    "        Delta = dx - dy\n",
    "        \n",
    "        # Next, we find the integer range for k from a>=0 and b>=0:\n",
    "        #   a(k) = a_part + k*dx >= 0\n",
    "        #   b(k) = b_part - k*dy >= 0\n",
    "        #\n",
    "        # We'll solve these inequalities to get a range for k.  \n",
    "\n",
    "        # We'll define a helper that returns the valid integer range for k from each inequality:\n",
    "        def range_from_inequality(base, step):\n",
    "            # base + k*step >= 0\n",
    "            # => k*step >= -base\n",
    "            # => k >= -base/step  (if step>0)\n",
    "            # or k <= -base/step  (if step<0)\n",
    "            \n",
    "            # We'll return a half-open interval [low, high] or something similar, possibly infinite.\n",
    "            if step == 0:\n",
    "                if base < 0:\n",
    "                    # Then there's no solution\n",
    "                    return None  # means no valid k\n",
    "                else:\n",
    "                    # base>=0 => no restriction from this inequality\n",
    "                    return -float('inf'), float('inf')\n",
    "            else:\n",
    "                boundary = -base / step\n",
    "                if step > 0:\n",
    "                    # k >= boundary\n",
    "                    return boundary, float('inf')\n",
    "                else:\n",
    "                    # k <= boundary\n",
    "                    return -float('inf'), boundary\n",
    "\n",
    "        rng_a = range_from_inequality(a_part, dx)\n",
    "        rng_b = range_from_inequality(b_part, -dy)\n",
    "        if rng_a is None or rng_b is None:\n",
    "            return None  # no valid k at all\n",
    "        # Intersection of these intervals:\n",
    "        low_k = max(rng_a[0], rng_b[0])\n",
    "        high_k = min(rng_a[1], rng_b[1])\n",
    "\n",
    "        # Because we want k to be an integer:\n",
    "        # low_k_int = smallest integer >= low_k\n",
    "        # high_k_int = largest integer <= high_k\n",
    "        import math\n",
    "        low_k_int = math.ceil(low_k)\n",
    "        high_k_int = math.floor(high_k)\n",
    "\n",
    "        if low_k_int > high_k_int:\n",
    "            return None  # no integer in that intersection => no solution\n",
    "\n",
    "        # Now sum_of(k) = (a_part + b_part) + k * Delta. \n",
    "        # If Delta>0 => sum_of(k) is minimized when k is as small as possible. \n",
    "        # If Delta<0 => sum_of(k) is minimized when k is as large as possible. \n",
    "        if Delta > 0:\n",
    "            best_k = low_k_int\n",
    "        elif Delta < 0:\n",
    "            best_k = high_k_int\n",
    "        else:\n",
    "            # Delta=0 => sum_of(k) is constant => pick any valid k\n",
    "            best_k = low_k_int  # or anything in [low_k_int, high_k_int]\n",
    "        \n",
    "        A = a_of(best_k)\n",
    "        B = b_of(best_k)\n",
    "        return (A, B) if (A >= 0 and B >= 0) else None\n",
    "\n",
    "    else:\n",
    "        # M != 0 => we have exactly one integer k if C % M == 0\n",
    "        if C % M != 0:\n",
    "            return None\n",
    "        k_fixed = C // M\n",
    "        A = a_of(k_fixed)\n",
    "        B = b_of(k_fixed)\n",
    "\n",
    "        # We require nonnegative solutions, check them\n",
    "        if A < 0 or B < 0:\n",
    "            return None\n",
    "        \n",
    "        # That's the only solution, so it automatically has minimal a+b among solutions.\n",
    "        return A, B"
   ],
   "id": "d4962d202353a77b",
   "outputs": [],
   "execution_count": null
  },
  {
   "metadata": {},
   "cell_type": "code",
   "source": [
    "smallest_sum_solutions = [\n",
    "    smallest_sum_solution(*button_a_values[i], *button_b_values[i], *prize_values[i])\n",
    "    for i in range(len(prize_values))\n",
    "]"
   ],
   "id": "70148614c269923d",
   "outputs": [],
   "execution_count": null
  },
  {
   "metadata": {},
   "cell_type": "code",
   "source": "solutions_with_costs = [(solution[0], solution[1], 3 * solution[0] + solution[1]) for solution in smallest_sum_solutions if solution]",
   "id": "f46f90459e38feaf",
   "outputs": [],
   "execution_count": null
  },
  {
   "metadata": {},
   "cell_type": "code",
   "source": [
    "sum(\n",
    "    solution[2] if solution else 0\n",
    "    for solution in solutions_with_costs\n",
    ")"
   ],
   "id": "bbc1bc7c31e101c8",
   "outputs": [],
   "execution_count": null
  }
 ],
 "metadata": {
  "kernelspec": {
   "name": "python3",
   "language": "python",
   "display_name": "Python 3 (ipykernel)"
  }
 },
 "nbformat": 4,
 "nbformat_minor": 5
}
