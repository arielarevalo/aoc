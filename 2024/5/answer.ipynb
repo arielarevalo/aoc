{
 "cells": [
  {
   "cell_type": "markdown",
   "id": "3d04afaa",
   "metadata": {},
   "source": [
    "# Advent of Code 2024, Day 5"
   ]
  },
  {
   "cell_type": "code",
   "id": "64eb57c8",
   "metadata": {},
   "source": [
    "with open('input.txt', 'r') as f:\n",
    "    puzzle_input = f.read().strip()"
   ],
   "outputs": [],
   "execution_count": null
  },
  {
   "cell_type": "markdown",
   "id": "0dedee38",
   "metadata": {},
   "source": [
    "## [First Puzzle:](https://adventofcode.com/2024/day/5)"
   ]
  },
  {
   "metadata": {},
   "cell_type": "code",
   "source": "from collections import defaultdict, deque",
   "id": "5ea95e003e5fa6bc",
   "outputs": [],
   "execution_count": null
  },
  {
   "cell_type": "code",
   "id": "35973f7b",
   "metadata": {},
   "source": "puzzle_input_lines = puzzle_input.split('\\n')",
   "outputs": [],
   "execution_count": null
  },
  {
   "metadata": {},
   "cell_type": "code",
   "source": [
    "divider = puzzle_input_lines.index('')\n",
    "\n",
    "rules = [tuple(rule.split('|')) for rule in puzzle_input_lines[:divider]]\n",
    "updates = [update.split(',') for update in puzzle_input_lines[divider + 1:]]"
   ],
   "id": "a94b487e8848c4ef",
   "outputs": [],
   "execution_count": null
  },
  {
   "metadata": {},
   "cell_type": "code",
   "source": "all_pages = set([page for update in updates for page in update])",
   "id": "b6c4ebdbab0e3744",
   "outputs": [],
   "execution_count": null
  },
  {
   "metadata": {},
   "cell_type": "code",
   "source": "update_rulesets = [[rule for rule in rules if rule[0] in update and rule[1] in update] for update in updates]",
   "id": "d67b39368762a184",
   "outputs": [],
   "execution_count": null
  },
  {
   "metadata": {},
   "cell_type": "code",
   "source": [
    "def topological_sort(rules):\n",
    "    nodes = set()\n",
    "    for u, v in rules:\n",
    "        nodes.add(u)\n",
    "        nodes.add(v)\n",
    "\n",
    "    adj_list = defaultdict(list)\n",
    "    in_degree = {node: 0 for node in nodes}\n",
    "\n",
    "    for u, v in rules:\n",
    "        adj_list[u].append(v)\n",
    "        in_degree[v] += 1\n",
    "\n",
    "    queue = deque([node for node in nodes if in_degree[node] == 0])\n",
    "    topo_order = []\n",
    "\n",
    "    while queue:\n",
    "        node = queue.popleft()\n",
    "        topo_order.append(node)\n",
    "        for neighbor in adj_list[node]:\n",
    "            in_degree[neighbor] -= 1\n",
    "            if in_degree[neighbor] == 0:\n",
    "                queue.append(neighbor)\n",
    "\n",
    "    # Check for cycles\n",
    "    if len(topo_order) != len(nodes):\n",
    "        raise ValueError(\"Cycle detected: no valid topological ordering exists.\")\n",
    "\n",
    "    return topo_order"
   ],
   "id": "43e00a44b6d1352a",
   "outputs": [],
   "execution_count": null
  },
  {
   "metadata": {},
   "cell_type": "code",
   "source": "topological_orderings = [topological_sort(ruleset) for ruleset in update_rulesets]",
   "id": "74e1a3bfb8bf1895",
   "outputs": [],
   "execution_count": null
  },
  {
   "metadata": {},
   "cell_type": "code",
   "source": "ordered_updates = [updates[i] for i in range(len(updates)) if topological_orderings[i] == updates[i]]",
   "id": "9f6694037e754b53",
   "outputs": [],
   "execution_count": null
  },
  {
   "metadata": {},
   "cell_type": "code",
   "source": "middle_values = [int(update[len(update) // 2]) for update in ordered_updates]",
   "id": "2e759b625e4b963a",
   "outputs": [],
   "execution_count": null
  },
  {
   "metadata": {},
   "cell_type": "code",
   "source": "sum(middle_values)",
   "id": "1e2f2cff0c1d35d1",
   "outputs": [],
   "execution_count": null
  },
  {
   "cell_type": "markdown",
   "id": "f0525b9b",
   "metadata": {},
   "source": [
    "## [Second Puzzle:](https://adventofcode.com/2024/day/5/#part2)"
   ]
  },
  {
   "cell_type": "code",
   "id": "cbcef7c0",
   "metadata": {},
   "source": "unordered_update_indices = [i for i in range(len(updates)) if updates[i] not in ordered_updates]",
   "outputs": [],
   "execution_count": null
  },
  {
   "metadata": {},
   "cell_type": "code",
   "source": "ordered_unordered_updates = [topological_orderings[i] for i in unordered_update_indices]",
   "id": "c0677755ae7e5f26",
   "outputs": [],
   "execution_count": null
  },
  {
   "metadata": {},
   "cell_type": "code",
   "source": "middle_values = [int(update[len(update) // 2]) for update in ordered_unordered_updates]",
   "id": "2c84896b0e4195a2",
   "outputs": [],
   "execution_count": null
  },
  {
   "metadata": {},
   "cell_type": "code",
   "source": "sum(middle_values)",
   "id": "5b382eebbfc835f7",
   "outputs": [],
   "execution_count": null
  }
 ],
 "metadata": {
  "kernelspec": {
   "name": "python3",
   "language": "python",
   "display_name": "Python 3 (ipykernel)"
  }
 },
 "nbformat": 4,
 "nbformat_minor": 5
}
